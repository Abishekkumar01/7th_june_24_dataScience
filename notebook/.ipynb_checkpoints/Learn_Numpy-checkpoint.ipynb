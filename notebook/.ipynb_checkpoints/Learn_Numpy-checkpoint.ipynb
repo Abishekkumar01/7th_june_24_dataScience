{
 "cells": [
  {
   "cell_type": "markdown",
   "id": "b1e017ec-2704-466e-9e89-037ce57dcc1c",
   "metadata": {},
   "source": [
    "# Learn_Numpy"
   ]
  },
  {
   "cell_type": "code",
   "execution_count": 1,
   "id": "b82d6e45-22df-4d01-a5c8-bb0dce5c44e6",
   "metadata": {},
   "outputs": [
    {
     "name": "stdout",
     "output_type": "stream",
     "text": [
      "numpy is imported\n"
     ]
    }
   ],
   "source": [
    "# numpy is a libray or an module, classes and fn are predefined \n",
    "# pip install numpy \n",
    "# it deals well with array \n",
    "# array is 10 times faster than list, coz numpy libray is made up of C/C++ \n",
    "# list can be is used when u want to do genral purpose operation\n",
    "# eg. you have 10k items and u r adding +2 then ok but if u have a big data set\n",
    "# and u want to caluclate %, mean bif formula list will take 5 min and numpy will take less than 1 min\n",
    "# numpy has maintains time complexity \n",
    "# has all the fn to deal with the array \n",
    "\n",
    "import numpy as np\n",
    "print(\"numpy is imported\")"
   ]
  },
  {
   "cell_type": "code",
   "execution_count": 2,
   "id": "f491a7dc-6f2f-474b-af94-a35d7b58d796",
   "metadata": {},
   "outputs": [
    {
     "name": "stdout",
     "output_type": "stream",
     "text": [
      "[46, 38, 58, 61, 69, 49, 72, 74]\n"
     ]
    }
   ],
   "source": [
    "ls = [46, 38, 58, 61, 69, 49, 72, 74]\n",
    "print(ls)"
   ]
  },
  {
   "cell_type": "code",
   "execution_count": 3,
   "id": "916aa373-5046-4303-9201-eefe4dd7b2ae",
   "metadata": {},
   "outputs": [
    {
     "data": {
      "text/plain": [
       "array([46, 38, 58, 61, 69, 49, 72, 74])"
      ]
     },
     "execution_count": 3,
     "metadata": {},
     "output_type": "execute_result"
    }
   ],
   "source": [
    "ls = [46, 38, 58, 61, 69, 49, 72, 74]\n",
    "arr = np.array(ls)\n",
    "arr\n",
    "# it is a one dimensional array"
   ]
  },
  {
   "cell_type": "code",
   "execution_count": 4,
   "id": "86e3f063-cd58-4946-8463-d8389e4b61e1",
   "metadata": {},
   "outputs": [
    {
     "data": {
      "text/plain": [
       "numpy.ndarray"
      ]
     },
     "execution_count": 4,
     "metadata": {},
     "output_type": "execute_result"
    }
   ],
   "source": [
    "type(arr)\n",
    "# ndarray - N dimentional array "
   ]
  },
  {
   "cell_type": "code",
   "execution_count": 5,
   "id": "77c20997-1451-40eb-a395-96f0da3da683",
   "metadata": {},
   "outputs": [
    {
     "data": {
      "text/plain": [
       "array([51, 43, 63, 66, 74, 54, 77, 79])"
      ]
     },
     "execution_count": 5,
     "metadata": {},
     "output_type": "execute_result"
    }
   ],
   "source": [
    "arr + 5\n",
    "# has done increment as 5"
   ]
  },
  {
   "cell_type": "code",
   "execution_count": 6,
   "id": "1a9f9fca-04d2-4b49-a73e-d3a2146ad4e8",
   "metadata": {},
   "outputs": [
    {
     "data": {
      "text/plain": [
       "1"
      ]
     },
     "execution_count": 6,
     "metadata": {},
     "output_type": "execute_result"
    }
   ],
   "source": [
    "arr.ndim\n",
    "# ndim is fn - tells the no. of dimentions \n",
    "# 1 means - no. of dimensions\n",
    "# [[], [], [], [], [], [], [], [],]------ two dimensions"
   ]
  },
  {
   "cell_type": "code",
   "execution_count": 7,
   "id": "454c2bcf-75f7-4e5c-82fb-04a0e0482eef",
   "metadata": {},
   "outputs": [
    {
     "data": {
      "text/plain": [
       "dtype('int32')"
      ]
     },
     "execution_count": 7,
     "metadata": {},
     "output_type": "execute_result"
    }
   ],
   "source": [
    "# conitnous mememory allocations \n",
    "arr.dtype # will tell the data type its int"
   ]
  },
  {
   "cell_type": "markdown",
   "id": "634e9d73-7d55-4f54-98fc-8b3ae9263e13",
   "metadata": {},
   "source": [
    "### For float value "
   ]
  },
  {
   "cell_type": "code",
   "execution_count": 8,
   "id": "5f300b89-6772-4e4e-acf3-90461d5ca43c",
   "metadata": {},
   "outputs": [
    {
     "data": {
      "text/plain": [
       "array([46. , 38. , 58. , 61. , 69. , 49. , 72. , 74. , 42.5])"
      ]
     },
     "execution_count": 8,
     "metadata": {},
     "output_type": "execute_result"
    }
   ],
   "source": [
    "ls = [46, 38, 58, 61, 69, 49, 72, 74, 42.5]\n",
    "arr = np.array(ls)\n",
    "arr\n",
    "# it is a one dimensional array\n",
    "# if i add one as float then it will make every value as float"
   ]
  },
  {
   "cell_type": "code",
   "execution_count": 9,
   "id": "e95d1db4-72ba-46e0-9109-d87afef480db",
   "metadata": {},
   "outputs": [
    {
     "data": {
      "text/plain": [
       "dtype('float64')"
      ]
     },
     "execution_count": 9,
     "metadata": {},
     "output_type": "execute_result"
    }
   ],
   "source": [
    "arr.dtype"
   ]
  },
  {
   "cell_type": "markdown",
   "id": "72db7c46-1023-4b80-941a-1de480e3f8f8",
   "metadata": {},
   "source": [
    "### For string Value "
   ]
  },
  {
   "cell_type": "code",
   "execution_count": 10,
   "id": "b52be012-45e5-4b2b-854c-c3caa57feab6",
   "metadata": {},
   "outputs": [
    {
     "data": {
      "text/plain": [
       "array(['46', '38', '58', '61', '69', '49', '72', '74', 'upflairs'],\n",
       "      dtype='<U11')"
      ]
     },
     "execution_count": 10,
     "metadata": {},
     "output_type": "execute_result"
    }
   ],
   "source": [
    "ls = [46, 38, 58, 61, 69, 49, 72, 74, \"upflairs\"]\n",
    "arr = np.array(ls)\n",
    "arr\n",
    "# will all the value as string"
   ]
  },
  {
   "cell_type": "code",
   "execution_count": 11,
   "id": "c26f6c43-44cd-4ad6-910a-4629e622fd16",
   "metadata": {},
   "outputs": [
    {
     "data": {
      "text/plain": [
       "dtype('<U11')"
      ]
     },
     "execution_count": 11,
     "metadata": {},
     "output_type": "execute_result"
    }
   ],
   "source": [
    "arr.dtype"
   ]
  },
  {
   "cell_type": "code",
   "execution_count": 12,
   "id": "f7ea4c02-9840-4db5-8b05-20fcc479544c",
   "metadata": {},
   "outputs": [],
   "source": [
    "# array -------\n",
    "# arr has continious memory allocation \n",
    "# collection of similar item \n",
    "\n",
    "# int arr[10] = {............}\n",
    "# this means we r storing 10 elements, and int takes 4 byte memory ------ 4*10 = 40 bytes arr requests for memaory allocation \n",
    "# a block of storange for 40 bytes is allocated in ur computer "
   ]
  },
  {
   "cell_type": "markdown",
   "id": "320a3c32-d881-4790-af03-92f66e50037b",
   "metadata": {},
   "source": [
    "### ----------------------------------------------------------"
   ]
  },
  {
   "cell_type": "code",
   "execution_count": 13,
   "id": "7af762a2-f711-4e4d-b472-5be9bb06e0cb",
   "metadata": {},
   "outputs": [
    {
     "data": {
      "text/plain": [
       "53"
      ]
     },
     "execution_count": 13,
     "metadata": {},
     "output_type": "execute_result"
    }
   ],
   "source": [
    "ls = [41,33,53,56,64,44,67]\n",
    "arr = np.array(ls)\n",
    "arr[2]\n",
    "# if acces any element like this what will be the time complexity of the arr \n",
    "# time complexity is or 1 order of 1\n",
    "# --------------------------------------------------------------------------------------------\n",
    "# first_item_address + (data type size * index se)\n",
    "# suppose u want element stored in no. 2------------------------------> address of 1st element 100+(2x4 data type) = 108 this is how arr works"
   ]
  },
  {
   "cell_type": "code",
   "execution_count": 14,
   "id": "837fa107-553c-4dcd-a34d-c3e5c06ad833",
   "metadata": {},
   "outputs": [],
   "source": [
    "# arr creation -- done\n",
    "# item accessing \n",
    "# item manipulation"
   ]
  },
  {
   "cell_type": "markdown",
   "id": "477a438d-2a6d-4578-b3d4-834b07af2721",
   "metadata": {},
   "source": [
    "### Arr accessing "
   ]
  },
  {
   "cell_type": "code",
   "execution_count": 15,
   "id": "e252f431-abb1-42f7-b8bb-5306789b007b",
   "metadata": {},
   "outputs": [
    {
     "data": {
      "text/plain": [
       "array([53, 64])"
      ]
     },
     "execution_count": 15,
     "metadata": {},
     "output_type": "execute_result"
    }
   ],
   "source": [
    "ls = [41,33,53,56,64,44,67]\n",
    "arr[2:5:2]\n",
    "# start end jump"
   ]
  },
  {
   "cell_type": "code",
   "execution_count": 16,
   "id": "b5e8d5c9-5197-4ee9-ad7a-0763dd19ddbc",
   "metadata": {},
   "outputs": [
    {
     "data": {
      "text/plain": [
       "7"
      ]
     },
     "execution_count": 16,
     "metadata": {},
     "output_type": "execute_result"
    }
   ],
   "source": [
    "arr.size"
   ]
  },
  {
   "cell_type": "code",
   "execution_count": 17,
   "id": "951a1af4-00ac-40d1-b462-c9fb986968ce",
   "metadata": {},
   "outputs": [
    {
     "data": {
      "text/plain": [
       "7"
      ]
     },
     "execution_count": 17,
     "metadata": {},
     "output_type": "execute_result"
    }
   ],
   "source": [
    "len(arr)"
   ]
  },
  {
   "cell_type": "code",
   "execution_count": 18,
   "id": "1848df70-e4bf-4906-9d26-9eaaff2c6bd0",
   "metadata": {},
   "outputs": [
    {
     "data": {
      "text/plain": [
       "array([41, 33, 44])"
      ]
     },
     "execution_count": 18,
     "metadata": {},
     "output_type": "execute_result"
    }
   ],
   "source": [
    "# # i want the items that are less than 50\n",
    "# ls = [41,33,53,56,64,44,67]\n",
    "# for i in ls:\n",
    "#  if i < 50:\n",
    "#      print(i)\n",
    "\n",
    "# or method \n",
    "\n",
    "arr[arr<50]"
   ]
  },
  {
   "cell_type": "markdown",
   "id": "ef17c146-f986-44a2-a695-916d9458944a",
   "metadata": {},
   "source": [
    "<!-- new fn-->"
   ]
  },
  {
   "cell_type": "code",
   "execution_count": 19,
   "id": "69b309eb-c3b8-4aeb-9ed9-aeae2172af67",
   "metadata": {},
   "outputs": [
    {
     "data": {
      "text/plain": [
       "array([ 0,  1,  2,  3,  4,  5,  6,  7,  8,  9, 10, 11, 12, 13, 14, 15, 16,\n",
       "       17, 18, 19, 20, 21, 22, 23, 24, 25, 26, 27, 28, 29, 30, 31, 32, 33,\n",
       "       34, 35, 36, 37, 38, 39, 40, 41, 42, 43, 44, 45, 46, 47, 48, 49])"
      ]
     },
     "execution_count": 19,
     "metadata": {},
     "output_type": "execute_result"
    }
   ],
   "source": [
    "# new fn\n",
    "# gives 1d arr from 0 - 49\n",
    "arr2 = np.arange(50) \n",
    "arr2"
   ]
  },
  {
   "cell_type": "code",
   "execution_count": 20,
   "id": "0e00273c-b570-4154-a9ff-e89114461859",
   "metadata": {},
   "outputs": [
    {
     "data": {
      "text/plain": [
       "array([1., 1., 1., 1., 1., 1., 1., 1., 1., 1.])"
      ]
     },
     "execution_count": 20,
     "metadata": {},
     "output_type": "execute_result"
    }
   ],
   "source": [
    "np.ones(10) # gives 1s arr"
   ]
  },
  {
   "cell_type": "code",
   "execution_count": 21,
   "id": "b9ecb227-a9fd-4b35-9142-d56fac701586",
   "metadata": {},
   "outputs": [
    {
     "data": {
      "text/plain": [
       "array([[1., 1., 1., 1., 1.],\n",
       "       [1., 1., 1., 1., 1.],\n",
       "       [1., 1., 1., 1., 1.],\n",
       "       [1., 1., 1., 1., 1.],\n",
       "       [1., 1., 1., 1., 1.],\n",
       "       [1., 1., 1., 1., 1.],\n",
       "       [1., 1., 1., 1., 1.],\n",
       "       [1., 1., 1., 1., 1.],\n",
       "       [1., 1., 1., 1., 1.],\n",
       "       [1., 1., 1., 1., 1.]])"
      ]
     },
     "execution_count": 21,
     "metadata": {},
     "output_type": "execute_result"
    }
   ],
   "source": [
    "np.ones((10,5)) # it is a 2d array storing 1s \n",
    "# here 10 ---row, 5 --- col\n",
    "# 2d arr is in the form of matrix ek arr ek ander multiple arr"
   ]
  },
  {
   "cell_type": "code",
   "execution_count": 22,
   "id": "acfd6890-470f-4a7f-8fcd-0d3b818456ae",
   "metadata": {},
   "outputs": [
    {
     "data": {
      "text/plain": [
       "array([0., 0., 0., 0., 0., 0., 0., 0., 0., 0.])"
      ]
     },
     "execution_count": 22,
     "metadata": {},
     "output_type": "execute_result"
    }
   ],
   "source": [
    "np.zeros(10) #another fn # gives 0s in arr "
   ]
  },
  {
   "cell_type": "code",
   "execution_count": 23,
   "id": "395f787a-bb84-4d81-9de6-60e0c31cc77e",
   "metadata": {},
   "outputs": [
    {
     "data": {
      "text/plain": [
       "array([1.  , 2.75, 4.5 , 6.25, 8.  ])"
      ]
     },
     "execution_count": 23,
     "metadata": {},
     "output_type": "execute_result"
    }
   ],
   "source": [
    "np.linspace(1,8,5) \n",
    "# in btw 1 -8 fill 5 items the u can wrrite this \n",
    "\n",
    "# another example \n",
    "# np.linspace(1,50,100) "
   ]
  },
  {
   "cell_type": "code",
   "execution_count": 24,
   "id": "9b14a18a-7b1d-46d6-9a12-ef3d6fe44016",
   "metadata": {},
   "outputs": [],
   "source": [
    "import random\n",
    "# random is a module "
   ]
  },
  {
   "cell_type": "code",
   "execution_count": 25,
   "id": "3ad4cb14-3a28-48d3-befc-0327f2e97a9a",
   "metadata": {},
   "outputs": [
    {
     "data": {
      "text/plain": [
       "9"
      ]
     },
     "execution_count": 25,
     "metadata": {},
     "output_type": "execute_result"
    }
   ],
   "source": [
    "random.randint(1,10)\n",
    "# this fn will give you random value btw 1 - 10"
   ]
  },
  {
   "cell_type": "code",
   "execution_count": 26,
   "id": "9eab00a2-64ed-4443-bcc6-ee8dc7188865",
   "metadata": {},
   "outputs": [
    {
     "data": {
      "text/plain": [
       "0.13895838696558593"
      ]
     },
     "execution_count": 26,
     "metadata": {},
     "output_type": "execute_result"
    }
   ],
   "source": [
    "random.random()\n",
    "# this also will give you random value "
   ]
  },
  {
   "cell_type": "code",
   "execution_count": 27,
   "id": "5f1e7ebd-bb0a-4ea3-bffb-367b92f5a82e",
   "metadata": {},
   "outputs": [
    {
     "data": {
      "text/plain": [
       "'abi'"
      ]
     },
     "execution_count": 27,
     "metadata": {},
     "output_type": "execute_result"
    }
   ],
   "source": [
    "ls = ['abi', 'chetan', 'aman']\n",
    "ls\n",
    "random.choice(ls)\n",
    "# this will chosee random ppl from the ls"
   ]
  },
  {
   "cell_type": "code",
   "execution_count": 28,
   "id": "0f5ab0e2-bd57-4b96-8fef-a42a84f29dbb",
   "metadata": {},
   "outputs": [
    {
     "data": {
      "text/plain": [
       "['aman', 'abi']"
      ]
     },
     "execution_count": 28,
     "metadata": {},
     "output_type": "execute_result"
    }
   ],
   "source": [
    "random.choices(ls,k=2)\n",
    "# this will give 2 names randomly and note the fn is choices.....not choice"
   ]
  },
  {
   "cell_type": "code",
   "execution_count": 29,
   "id": "48a60f96-0fcb-4371-943a-e7fe25a962fa",
   "metadata": {},
   "outputs": [
    {
     "data": {
      "text/plain": [
       "['aman', 'abi', 'chetan']"
      ]
     },
     "execution_count": 29,
     "metadata": {},
     "output_type": "execute_result"
    }
   ],
   "source": [
    "random.shuffle(ls)\n",
    "ls\n",
    "# items postion is randomly shuffled"
   ]
  },
  {
   "cell_type": "code",
   "execution_count": 30,
   "id": "cb28ff5e-4865-4c5c-ad40-3c3e1c68fb44",
   "metadata": {},
   "outputs": [
    {
     "data": {
      "text/plain": [
       "array([27, 42, 43, 49,  1, 18, 23, 19,  1, 36])"
      ]
     },
     "execution_count": 30,
     "metadata": {},
     "output_type": "execute_result"
    }
   ],
   "source": [
    "np.random.randint(1,50,10)\n",
    "# 1-50 random 10 elements"
   ]
  },
  {
   "cell_type": "code",
   "execution_count": 31,
   "id": "8f828be8-19d0-4a25-9187-35219188ef8d",
   "metadata": {},
   "outputs": [
    {
     "name": "stdout",
     "output_type": "stream",
     "text": [
      "Python 3.8.10\n"
     ]
    }
   ],
   "source": [
    "!python --version \n",
    "# this will tell the version "
   ]
  },
  {
   "cell_type": "code",
   "execution_count": 32,
   "id": "eebe50dc-e0c3-463a-8922-5e3d9538f036",
   "metadata": {},
   "outputs": [
    {
     "data": {
      "text/plain": [
       "array([[12, 13,  6, 33,  1],\n",
       "       [23, 20, 37, 31, 18],\n",
       "       [47, 28, 49, 47, 46],\n",
       "       [ 6, 40, 35, 47, 48],\n",
       "       [45, 16, 42, 43, 45],\n",
       "       [25, 49,  3, 48, 20],\n",
       "       [34,  9, 29,  1, 14],\n",
       "       [19, 45, 18, 18, 39],\n",
       "       [12, 25,  5, 10, 36],\n",
       "       [33, 25, 35, 25, 24]])"
      ]
     },
     "execution_count": 32,
     "metadata": {},
     "output_type": "execute_result"
    }
   ],
   "source": [
    "np.random.randint(1,50,(10,5))\n",
    "# 1-50 give random elements with 10 row and 5 col --- its a 2d arr"
   ]
  },
  {
   "cell_type": "code",
   "execution_count": 33,
   "id": "ba738b22-53ca-48b8-93f8-84fa10864048",
   "metadata": {},
   "outputs": [
    {
     "data": {
      "text/plain": [
       "array([ 0,  1,  2,  3,  4,  5,  6,  7,  8,  9, 10, 11, 12, 13, 14, 15, 16,\n",
       "       17, 18, 19, 20, 21, 22, 23, 24, 25, 26, 27, 28, 29, 30, 31, 32, 33,\n",
       "       34, 35, 36, 37, 38, 39, 40, 41, 42, 43, 44, 45, 46, 47, 48, 49, 50,\n",
       "       51, 52, 53, 54, 55, 56, 57, 58, 59])"
      ]
     },
     "execution_count": 33,
     "metadata": {},
     "output_type": "execute_result"
    }
   ],
   "source": [
    "arr = np.arange(60)\n",
    "arr\n",
    "# its a 1d arr"
   ]
  },
  {
   "cell_type": "code",
   "execution_count": 34,
   "id": "a39a9755-53fd-44e0-993c-f3e43784f407",
   "metadata": {},
   "outputs": [
    {
     "data": {
      "text/plain": [
       "array([[ 0,  1,  2,  3,  4],\n",
       "       [ 5,  6,  7,  8,  9],\n",
       "       [10, 11, 12, 13, 14],\n",
       "       [15, 16, 17, 18, 19],\n",
       "       [20, 21, 22, 23, 24],\n",
       "       [25, 26, 27, 28, 29],\n",
       "       [30, 31, 32, 33, 34],\n",
       "       [35, 36, 37, 38, 39],\n",
       "       [40, 41, 42, 43, 44],\n",
       "       [45, 46, 47, 48, 49],\n",
       "       [50, 51, 52, 53, 54],\n",
       "       [55, 56, 57, 58, 59]])"
      ]
     },
     "execution_count": 34,
     "metadata": {},
     "output_type": "execute_result"
    }
   ],
   "source": [
    "# to change the shape\n",
    "arr.reshape(12,5) # 20,3  #15,4 eg.....\n",
    "\n",
    "# if u have 20 items u can divide into 10,2     5,4     \n",
    "# 60   so 15,4   20,3   if you multiple these u get 60 make sure it\n",
    "\n",
    "# if want to make 3d \n",
    "# arr.reshape(10,3,2)"
   ]
  },
  {
   "cell_type": "code",
   "execution_count": 35,
   "id": "27297b07-9c29-4752-9f01-a869f8f2c5d1",
   "metadata": {},
   "outputs": [
    {
     "data": {
      "text/plain": [
       "array([[ 0,  1,  2,  3,  4,  5,  6,  7,  8,  9, 10, 11, 12, 13, 14, 15,\n",
       "        16, 17, 18, 19, 20, 21, 22, 23, 24],\n",
       "       [25, 26, 27, 28, 29, 30, 31, 32, 33, 34, 35, 36, 37, 38, 39, 40,\n",
       "        41, 42, 43, 44, 45, 46, 47, 48, 49],\n",
       "       [50, 51, 52, 53, 54, 55, 56, 57, 58, 59,  0,  1,  2,  3,  4,  5,\n",
       "         6,  7,  8,  9, 10, 11, 12, 13, 14],\n",
       "       [15, 16, 17, 18, 19, 20, 21, 22, 23, 24, 25, 26, 27, 28, 29, 30,\n",
       "        31, 32, 33, 34, 35, 36, 37, 38, 39],\n",
       "       [40, 41, 42, 43, 44, 45, 46, 47, 48, 49, 50, 51, 52, 53, 54, 55,\n",
       "        56, 57, 58, 59,  0,  1,  2,  3,  4],\n",
       "       [ 5,  6,  7,  8,  9, 10, 11, 12, 13, 14, 15, 16, 17, 18, 19, 20,\n",
       "        21, 22, 23, 24, 25, 26, 27, 28, 29],\n",
       "       [30, 31, 32, 33, 34, 35, 36, 37, 38, 39, 40, 41, 42, 43, 44, 45,\n",
       "        46, 47, 48, 49, 50, 51, 52, 53, 54],\n",
       "       [55, 56, 57, 58, 59,  0,  1,  2,  3,  4,  5,  6,  7,  8,  9, 10,\n",
       "        11, 12, 13, 14, 15, 16, 17, 18, 19],\n",
       "       [20, 21, 22, 23, 24, 25, 26, 27, 28, 29, 30, 31, 32, 33, 34, 35,\n",
       "        36, 37, 38, 39, 40, 41, 42, 43, 44],\n",
       "       [45, 46, 47, 48, 49, 50, 51, 52, 53, 54, 55, 56, 57, 58, 59,  0,\n",
       "         1,  2,  3,  4,  5,  6,  7,  8,  9],\n",
       "       [10, 11, 12, 13, 14, 15, 16, 17, 18, 19, 20, 21, 22, 23, 24, 25,\n",
       "        26, 27, 28, 29, 30, 31, 32, 33, 34],\n",
       "       [35, 36, 37, 38, 39, 40, 41, 42, 43, 44, 45, 46, 47, 48, 49, 50,\n",
       "        51, 52, 53, 54, 55, 56, 57, 58, 59],\n",
       "       [ 0,  1,  2,  3,  4,  5,  6,  7,  8,  9, 10, 11, 12, 13, 14, 15,\n",
       "        16, 17, 18, 19, 20, 21, 22, 23, 24],\n",
       "       [25, 26, 27, 28, 29, 30, 31, 32, 33, 34, 35, 36, 37, 38, 39, 40,\n",
       "        41, 42, 43, 44, 45, 46, 47, 48, 49],\n",
       "       [50, 51, 52, 53, 54, 55, 56, 57, 58, 59,  0,  1,  2,  3,  4,  5,\n",
       "         6,  7,  8,  9, 10, 11, 12, 13, 14],\n",
       "       [15, 16, 17, 18, 19, 20, 21, 22, 23, 24, 25, 26, 27, 28, 29, 30,\n",
       "        31, 32, 33, 34, 35, 36, 37, 38, 39],\n",
       "       [40, 41, 42, 43, 44, 45, 46, 47, 48, 49, 50, 51, 52, 53, 54, 55,\n",
       "        56, 57, 58, 59,  0,  1,  2,  3,  4],\n",
       "       [ 5,  6,  7,  8,  9, 10, 11, 12, 13, 14, 15, 16, 17, 18, 19, 20,\n",
       "        21, 22, 23, 24, 25, 26, 27, 28, 29],\n",
       "       [30, 31, 32, 33, 34, 35, 36, 37, 38, 39, 40, 41, 42, 43, 44, 45,\n",
       "        46, 47, 48, 49, 50, 51, 52, 53, 54],\n",
       "       [55, 56, 57, 58, 59,  0,  1,  2,  3,  4,  5,  6,  7,  8,  9, 10,\n",
       "        11, 12, 13, 14, 15, 16, 17, 18, 19],\n",
       "       [20, 21, 22, 23, 24, 25, 26, 27, 28, 29, 30, 31, 32, 33, 34, 35,\n",
       "        36, 37, 38, 39, 40, 41, 42, 43, 44],\n",
       "       [45, 46, 47, 48, 49, 50, 51, 52, 53, 54, 55, 56, 57, 58, 59,  0,\n",
       "         1,  2,  3,  4,  5,  6,  7,  8,  9],\n",
       "       [10, 11, 12, 13, 14, 15, 16, 17, 18, 19, 20, 21, 22, 23, 24, 25,\n",
       "        26, 27, 28, 29, 30, 31, 32, 33, 34],\n",
       "       [35, 36, 37, 38, 39, 40, 41, 42, 43, 44, 45, 46, 47, 48, 49, 50,\n",
       "        51, 52, 53, 54, 55, 56, 57, 58, 59],\n",
       "       [ 0,  1,  2,  3,  4,  5,  6,  7,  8,  9, 10, 11, 12, 13, 14, 15,\n",
       "        16, 17, 18, 19, 20, 21, 22, 23, 24]])"
      ]
     },
     "execution_count": 35,
     "metadata": {},
     "output_type": "execute_result"
    }
   ],
   "source": [
    "arr2 = np.resize(arr,(25,25))\n",
    "arr2\n",
    "# if u have less or more items it will adjust automatically randomly\n",
    "# if the matrix ka multiplication, total no. ofa item usse kam banraha h it leaves, if jayda ban raha h then it will replicate it, in the shape u want but it wont do reshape"
   ]
  },
  {
   "cell_type": "code",
   "execution_count": 36,
   "id": "4c920894-63a1-4db2-a3aa-9149ac3b3102",
   "metadata": {},
   "outputs": [
    {
     "data": {
      "text/plain": [
       "(25, 25)"
      ]
     },
     "execution_count": 36,
     "metadata": {},
     "output_type": "execute_result"
    }
   ],
   "source": [
    "arr2.shape"
   ]
  },
  {
   "cell_type": "code",
   "execution_count": 37,
   "id": "081ec21d-de6a-44a0-8245-ef230240e189",
   "metadata": {},
   "outputs": [
    {
     "data": {
      "text/plain": [
       "2"
      ]
     },
     "execution_count": 37,
     "metadata": {},
     "output_type": "execute_result"
    }
   ],
   "source": [
    "arr2.ndim\n",
    "# its 2d"
   ]
  },
  {
   "cell_type": "code",
   "execution_count": 38,
   "id": "cc74e7b5-e802-47a7-a979-c6065d842c19",
   "metadata": {},
   "outputs": [
    {
     "data": {
      "text/plain": [
       "array([ 0,  1,  2,  3,  4,  5,  6,  7,  8,  9, 10, 11, 12, 13, 14, 15, 16,\n",
       "       17, 18, 19, 20, 21, 22, 23, 24, 25, 26, 27, 28, 29, 30, 31, 32, 33,\n",
       "       34, 35, 36, 37, 38, 39, 40, 41, 42, 43, 44, 45, 46, 47, 48, 49, 50,\n",
       "       51, 52, 53, 54, 55, 56, 57, 58, 59,  0,  1,  2,  3,  4,  5,  6,  7,\n",
       "        8,  9, 10, 11, 12, 13, 14, 15, 16, 17, 18, 19, 20, 21, 22, 23, 24,\n",
       "       25, 26, 27, 28, 29, 30, 31, 32, 33, 34, 35, 36, 37, 38, 39, 40, 41,\n",
       "       42, 43, 44, 45, 46, 47, 48, 49, 50, 51, 52, 53, 54, 55, 56, 57, 58,\n",
       "       59,  0,  1,  2,  3,  4,  5,  6,  7,  8,  9, 10, 11, 12, 13, 14, 15,\n",
       "       16, 17, 18, 19, 20, 21, 22, 23, 24, 25, 26, 27, 28, 29, 30, 31, 32,\n",
       "       33, 34, 35, 36, 37, 38, 39, 40, 41, 42, 43, 44, 45, 46, 47, 48, 49,\n",
       "       50, 51, 52, 53, 54, 55, 56, 57, 58, 59,  0,  1,  2,  3,  4,  5,  6,\n",
       "        7,  8,  9, 10, 11, 12, 13, 14, 15, 16, 17, 18, 19, 20, 21, 22, 23,\n",
       "       24, 25, 26, 27, 28, 29, 30, 31, 32, 33, 34, 35, 36, 37, 38, 39, 40,\n",
       "       41, 42, 43, 44, 45, 46, 47, 48, 49, 50, 51, 52, 53, 54, 55, 56, 57,\n",
       "       58, 59,  0,  1,  2,  3,  4,  5,  6,  7,  8,  9, 10, 11, 12, 13, 14,\n",
       "       15, 16, 17, 18, 19, 20, 21, 22, 23, 24, 25, 26, 27, 28, 29, 30, 31,\n",
       "       32, 33, 34, 35, 36, 37, 38, 39, 40, 41, 42, 43, 44, 45, 46, 47, 48,\n",
       "       49, 50, 51, 52, 53, 54, 55, 56, 57, 58, 59,  0,  1,  2,  3,  4,  5,\n",
       "        6,  7,  8,  9, 10, 11, 12, 13, 14, 15, 16, 17, 18, 19, 20, 21, 22,\n",
       "       23, 24, 25, 26, 27, 28, 29, 30, 31, 32, 33, 34, 35, 36, 37, 38, 39,\n",
       "       40, 41, 42, 43, 44, 45, 46, 47, 48, 49, 50, 51, 52, 53, 54, 55, 56,\n",
       "       57, 58, 59,  0,  1,  2,  3,  4,  5,  6,  7,  8,  9, 10, 11, 12, 13,\n",
       "       14, 15, 16, 17, 18, 19, 20, 21, 22, 23, 24, 25, 26, 27, 28, 29, 30,\n",
       "       31, 32, 33, 34, 35, 36, 37, 38, 39, 40, 41, 42, 43, 44, 45, 46, 47,\n",
       "       48, 49, 50, 51, 52, 53, 54, 55, 56, 57, 58, 59,  0,  1,  2,  3,  4,\n",
       "        5,  6,  7,  8,  9, 10, 11, 12, 13, 14, 15, 16, 17, 18, 19, 20, 21,\n",
       "       22, 23, 24, 25, 26, 27, 28, 29, 30, 31, 32, 33, 34, 35, 36, 37, 38,\n",
       "       39, 40, 41, 42, 43, 44, 45, 46, 47, 48, 49, 50, 51, 52, 53, 54, 55,\n",
       "       56, 57, 58, 59,  0,  1,  2,  3,  4,  5,  6,  7,  8,  9, 10, 11, 12,\n",
       "       13, 14, 15, 16, 17, 18, 19, 20, 21, 22, 23, 24, 25, 26, 27, 28, 29,\n",
       "       30, 31, 32, 33, 34, 35, 36, 37, 38, 39, 40, 41, 42, 43, 44, 45, 46,\n",
       "       47, 48, 49, 50, 51, 52, 53, 54, 55, 56, 57, 58, 59,  0,  1,  2,  3,\n",
       "        4,  5,  6,  7,  8,  9, 10, 11, 12, 13, 14, 15, 16, 17, 18, 19, 20,\n",
       "       21, 22, 23, 24, 25, 26, 27, 28, 29, 30, 31, 32, 33, 34, 35, 36, 37,\n",
       "       38, 39, 40, 41, 42, 43, 44, 45, 46, 47, 48, 49, 50, 51, 52, 53, 54,\n",
       "       55, 56, 57, 58, 59,  0,  1,  2,  3,  4,  5,  6,  7,  8,  9, 10, 11,\n",
       "       12, 13, 14, 15, 16, 17, 18, 19, 20, 21, 22, 23, 24])"
      ]
     },
     "execution_count": 38,
     "metadata": {},
     "output_type": "execute_result"
    }
   ],
   "source": [
    "arr2.reshape(625) # 25*25\n",
    "# this made 25 by 25 arr into 1d arr"
   ]
  },
  {
   "cell_type": "code",
   "execution_count": 39,
   "id": "b4b4070f-bdc9-4841-b115-1546a885fe8c",
   "metadata": {},
   "outputs": [
    {
     "data": {
      "text/plain": [
       "array([ 0,  1,  2,  3,  4,  5,  6,  7,  8,  9, 10, 11, 12, 13, 14, 15, 16,\n",
       "       17, 18, 19, 20, 21, 22, 23, 24, 25, 26, 27, 28, 29, 30, 31, 32, 33,\n",
       "       34, 35, 36, 37, 38, 39, 40, 41, 42, 43, 44, 45, 46, 47, 48, 49, 50,\n",
       "       51, 52, 53, 54, 55, 56, 57, 58, 59,  0,  1,  2,  3,  4,  5,  6,  7,\n",
       "        8,  9, 10, 11, 12, 13, 14, 15, 16, 17, 18, 19, 20, 21, 22, 23, 24,\n",
       "       25, 26, 27, 28, 29, 30, 31, 32, 33, 34, 35, 36, 37, 38, 39, 40, 41,\n",
       "       42, 43, 44, 45, 46, 47, 48, 49, 50, 51, 52, 53, 54, 55, 56, 57, 58,\n",
       "       59,  0,  1,  2,  3,  4,  5,  6,  7,  8,  9, 10, 11, 12, 13, 14, 15,\n",
       "       16, 17, 18, 19, 20, 21, 22, 23, 24, 25, 26, 27, 28, 29, 30, 31, 32,\n",
       "       33, 34, 35, 36, 37, 38, 39, 40, 41, 42, 43, 44, 45, 46, 47, 48, 49,\n",
       "       50, 51, 52, 53, 54, 55, 56, 57, 58, 59,  0,  1,  2,  3,  4,  5,  6,\n",
       "        7,  8,  9, 10, 11, 12, 13, 14, 15, 16, 17, 18, 19, 20, 21, 22, 23,\n",
       "       24, 25, 26, 27, 28, 29, 30, 31, 32, 33, 34, 35, 36, 37, 38, 39, 40,\n",
       "       41, 42, 43, 44, 45, 46, 47, 48, 49, 50, 51, 52, 53, 54, 55, 56, 57,\n",
       "       58, 59,  0,  1,  2,  3,  4,  5,  6,  7,  8,  9, 10, 11, 12, 13, 14,\n",
       "       15, 16, 17, 18, 19, 20, 21, 22, 23, 24, 25, 26, 27, 28, 29, 30, 31,\n",
       "       32, 33, 34, 35, 36, 37, 38, 39, 40, 41, 42, 43, 44, 45, 46, 47, 48,\n",
       "       49, 50, 51, 52, 53, 54, 55, 56, 57, 58, 59,  0,  1,  2,  3,  4,  5,\n",
       "        6,  7,  8,  9, 10, 11, 12, 13, 14, 15, 16, 17, 18, 19, 20, 21, 22,\n",
       "       23, 24, 25, 26, 27, 28, 29, 30, 31, 32, 33, 34, 35, 36, 37, 38, 39,\n",
       "       40, 41, 42, 43, 44, 45, 46, 47, 48, 49, 50, 51, 52, 53, 54, 55, 56,\n",
       "       57, 58, 59,  0,  1,  2,  3,  4,  5,  6,  7,  8,  9, 10, 11, 12, 13,\n",
       "       14, 15, 16, 17, 18, 19, 20, 21, 22, 23, 24, 25, 26, 27, 28, 29, 30,\n",
       "       31, 32, 33, 34, 35, 36, 37, 38, 39, 40, 41, 42, 43, 44, 45, 46, 47,\n",
       "       48, 49, 50, 51, 52, 53, 54, 55, 56, 57, 58, 59,  0,  1,  2,  3,  4,\n",
       "        5,  6,  7,  8,  9, 10, 11, 12, 13, 14, 15, 16, 17, 18, 19, 20, 21,\n",
       "       22, 23, 24, 25, 26, 27, 28, 29, 30, 31, 32, 33, 34, 35, 36, 37, 38,\n",
       "       39, 40, 41, 42, 43, 44, 45, 46, 47, 48, 49, 50, 51, 52, 53, 54, 55,\n",
       "       56, 57, 58, 59,  0,  1,  2,  3,  4,  5,  6,  7,  8,  9, 10, 11, 12,\n",
       "       13, 14, 15, 16, 17, 18, 19, 20, 21, 22, 23, 24, 25, 26, 27, 28, 29,\n",
       "       30, 31, 32, 33, 34, 35, 36, 37, 38, 39, 40, 41, 42, 43, 44, 45, 46,\n",
       "       47, 48, 49, 50, 51, 52, 53, 54, 55, 56, 57, 58, 59,  0,  1,  2,  3,\n",
       "        4,  5,  6,  7,  8,  9, 10, 11, 12, 13, 14, 15, 16, 17, 18, 19, 20,\n",
       "       21, 22, 23, 24, 25, 26, 27, 28, 29, 30, 31, 32, 33, 34, 35, 36, 37,\n",
       "       38, 39, 40, 41, 42, 43, 44, 45, 46, 47, 48, 49, 50, 51, 52, 53, 54,\n",
       "       55, 56, 57, 58, 59,  0,  1,  2,  3,  4,  5,  6,  7,  8,  9, 10, 11,\n",
       "       12, 13, 14, 15, 16, 17, 18, 19, 20, 21, 22, 23, 24])"
      ]
     },
     "execution_count": 39,
     "metadata": {},
     "output_type": "execute_result"
    }
   ],
   "source": [
    "arr2.ravel()\n",
    "# this will make any D into 1d which is similar to reshape\n",
    "# arr2.flatten() #ditto as ravel"
   ]
  },
  {
   "cell_type": "markdown",
   "id": "09b1b98b-fa58-441a-b1cf-0b0a042ed140",
   "metadata": {},
   "source": [
    "# Day 2 of learning Numpy\n"
   ]
  },
  {
   "cell_type": "code",
   "execution_count": 40,
   "id": "6572240e-b029-4227-ac65-e8a599183541",
   "metadata": {},
   "outputs": [
    {
     "data": {
      "text/plain": [
       "array([22,  9, 37,  5, 32, 47, 21, 23, 24, 27, 11, 18, 29, 18, 18, 45, 31,\n",
       "       14,  5, 18, 20, 32,  6, 30, 48, 28, 17, 25, 27, 46, 12, 13, 21, 36,\n",
       "       21, 45, 26, 17, 30, 10, 28,  6, 19, 49, 11, 39, 41, 25, 24, 34, 15,\n",
       "       24, 32,  7, 27, 41, 41, 43, 44, 44, 33, 49, 42, 45, 26, 32, 32, 38,\n",
       "       30, 40, 37, 19, 27, 19,  5, 41, 49, 45, 43, 45, 20, 33, 10, 33, 25,\n",
       "       46, 12, 39, 38, 34, 42,  6, 18, 12, 20, 34, 32, 19, 19, 24])"
      ]
     },
     "execution_count": 40,
     "metadata": {},
     "output_type": "execute_result"
    }
   ],
   "source": [
    "arr = np.random.randint(5,50,100)\n",
    "arr"
   ]
  },
  {
   "cell_type": "code",
   "execution_count": 41,
   "id": "ed7da73f-87d6-45d7-bcb2-c9cd51ef71e8",
   "metadata": {},
   "outputs": [
    {
     "data": {
      "text/plain": [
       "5"
      ]
     },
     "execution_count": 41,
     "metadata": {},
     "output_type": "execute_result"
    }
   ],
   "source": [
    "# to find out min \n",
    "arr.min()\n",
    "# arr.max()\n",
    "# arr.sum()\n",
    "# arr.mean()\n"
   ]
  },
  {
   "cell_type": "code",
   "execution_count": 42,
   "id": "da553dc0-8a7c-4294-86bf-f94c38d92e9e",
   "metadata": {},
   "outputs": [
    {
     "data": {
      "text/plain": [
       "array([[37,  7, 46],\n",
       "       [46, 12, 11],\n",
       "       [22,  5, 19],\n",
       "       [32, 37, 32]])"
      ]
     },
     "execution_count": 42,
     "metadata": {},
     "output_type": "execute_result"
    }
   ],
   "source": [
    "arr = np.random.randint(5,50,(4,3))\n",
    "arr\n",
    "# 2d arr 4 cross 3"
   ]
  },
  {
   "cell_type": "code",
   "execution_count": 43,
   "id": "267fd007-6245-489b-a7cc-70ed1497298a",
   "metadata": {},
   "outputs": [
    {
     "data": {
      "text/plain": [
       "(4, 3)"
      ]
     },
     "execution_count": 43,
     "metadata": {},
     "output_type": "execute_result"
    }
   ],
   "source": [
    "arr.shape"
   ]
  },
  {
   "cell_type": "code",
   "execution_count": 44,
   "id": "25c9148f-24d2-41db-b43d-d5df00b40764",
   "metadata": {},
   "outputs": [
    {
     "data": {
      "text/plain": [
       "array([[37, 46, 22, 32],\n",
       "       [ 7, 12,  5, 37],\n",
       "       [46, 11, 19, 32]])"
      ]
     },
     "execution_count": 44,
     "metadata": {},
     "output_type": "execute_result"
    }
   ],
   "source": [
    "np.transpose(arr)\n",
    "arr.T # will perfom the same task no need to write transpose, no need to pass arr\n",
    "# np.transpose(arr).shape\n",
    "# row become col vice versa"
   ]
  },
  {
   "cell_type": "code",
   "execution_count": 45,
   "id": "659336e7-4f24-45fe-aea7-100a360d3dc1",
   "metadata": {},
   "outputs": [
    {
     "data": {
      "text/plain": [
       "array([[ 6, 11,  4,  9,  5],\n",
       "       [ 9,  6,  7,  6,  4],\n",
       "       [ 3, 11,  7,  4,  3],\n",
       "       [10,  7,  3,  6, 10],\n",
       "       [ 8,  3,  3,  5,  8],\n",
       "       [10,  4,  2,  6,  9],\n",
       "       [ 7,  9, 11,  4,  7],\n",
       "       [ 3,  2,  3,  3,  4],\n",
       "       [ 8,  5, 10,  4, 10],\n",
       "       [ 5,  5,  8,  7, 11]])"
      ]
     },
     "execution_count": 45,
     "metadata": {},
     "output_type": "execute_result"
    }
   ],
   "source": [
    "arr = np.random.randint(2,12,(10,5))\n",
    "arr\n",
    "# this is 2d"
   ]
  },
  {
   "cell_type": "code",
   "execution_count": 46,
   "id": "8f55d615-4ba1-4dcc-92b8-6aa7daa7c580",
   "metadata": {},
   "outputs": [],
   "source": [
    "# arr.flatten()\n",
    "# or\n",
    "# arr.ravel()\n",
    "# or\n",
    "# arr.shape then do arr.reshape(50)\n",
    "\n",
    "# to make it into 1d"
   ]
  },
  {
   "cell_type": "code",
   "execution_count": 47,
   "id": "d0062e48-718f-4623-84ed-34d6c117a721",
   "metadata": {},
   "outputs": [
    {
     "data": {
      "text/plain": [
       "array([[ 4,  7,  9,  7,  4],\n",
       "       [ 5,  5,  9, 11,  4],\n",
       "       [ 3,  5,  7,  4, 11],\n",
       "       [ 3,  9,  4, 11,  7],\n",
       "       [11,  9,  4,  9,  2],\n",
       "       [ 6,  3,  7,  9,  2],\n",
       "       [ 3, 11,  2,  4,  4],\n",
       "       [ 6, 10,  7, 10,  8],\n",
       "       [ 7,  3,  4,  5,  8],\n",
       "       [ 2,  9,  9,  8,  6]])"
      ]
     },
     "execution_count": 47,
     "metadata": {},
     "output_type": "execute_result"
    }
   ],
   "source": [
    "# how to fetch the value in 2d acsessing\n",
    "# so in 2d if u give single eg arr[1] it will give row\n",
    "# if 3 row from the 2nd then arr[2:5] # [start:stop]\n",
    "arr = np.random.randint(2,12,(10,5))\n",
    "arr"
   ]
  },
  {
   "cell_type": "code",
   "execution_count": 48,
   "id": "59314c39-0d92-407a-a075-cc61db52c4d3",
   "metadata": {},
   "outputs": [
    {
     "data": {
      "text/plain": [
       "array([[ 3,  5,  7,  4, 11],\n",
       "       [ 3,  9,  4, 11,  7],\n",
       "       [11,  9,  4,  9,  2]])"
      ]
     },
     "execution_count": 48,
     "metadata": {},
     "output_type": "execute_result"
    }
   ],
   "source": [
    "arr[2:5]"
   ]
  },
  {
   "cell_type": "code",
   "execution_count": 49,
   "id": "7f045f6a-5933-4a8d-9556-cc5f854298ab",
   "metadata": {},
   "outputs": [
    {
     "data": {
      "text/plain": [
       "array([[ 6, 10,  7, 10,  8],\n",
       "       [ 7,  3,  4,  5,  8],\n",
       "       [ 2,  9,  9,  8,  6]])"
      ]
     },
     "execution_count": 49,
     "metadata": {},
     "output_type": "execute_result"
    }
   ],
   "source": [
    "arr[7:]  # or 7:10"
   ]
  },
  {
   "cell_type": "code",
   "execution_count": 50,
   "id": "2f72eadd-3345-400d-8d14-5b4d4baf919a",
   "metadata": {},
   "outputs": [
    {
     "data": {
      "text/plain": [
       "array([[ 4,  7],\n",
       "       [ 5,  5],\n",
       "       [ 3,  5],\n",
       "       [ 3,  9],\n",
       "       [11,  9],\n",
       "       [ 6,  3],\n",
       "       [ 3, 11],\n",
       "       [ 6, 10],\n",
       "       [ 7,  3],\n",
       "       [ 2,  9]])"
      ]
     },
     "execution_count": 50,
     "metadata": {},
     "output_type": "execute_result"
    }
   ],
   "source": [
    "arr[0:10,0:2]\n",
    "# arr[:,:2]\n",
    "# arr[0:,0:2]\n",
    "# arr[:10,:2]\n",
    "# arr[-10:,:-3]\n",
    "# arr[-10:,-5:-3]\n",
    "# all gives same answer\n",
    "# arr[row start and end,col start and row]"
   ]
  },
  {
   "cell_type": "code",
   "execution_count": 51,
   "id": "b80d77fe-3315-4ba6-9eac-d694a7cf77d3",
   "metadata": {},
   "outputs": [
    {
     "data": {
      "text/plain": [
       "array([[ 4, 11,  7],\n",
       "       [ 4,  9,  2],\n",
       "       [ 7,  9,  2]])"
      ]
     },
     "execution_count": 51,
     "metadata": {},
     "output_type": "execute_result"
    }
   ],
   "source": [
    "arr[3:6,2:]"
   ]
  },
  {
   "cell_type": "code",
   "execution_count": 52,
   "id": "c44652d7-d214-469f-8a09-b7ea9a551ffe",
   "metadata": {},
   "outputs": [
    {
     "data": {
      "text/plain": [
       "array([[ 9,  7,  4],\n",
       "       [ 7,  4, 11],\n",
       "       [ 4,  9,  2],\n",
       "       [ 2,  4,  4],\n",
       "       [ 4,  5,  8]])"
      ]
     },
     "execution_count": 52,
     "metadata": {},
     "output_type": "execute_result"
    }
   ],
   "source": [
    "arr[0::2,2:]\n",
    "# arr[row - start:end:jump,col - start:end:jump]"
   ]
  },
  {
   "cell_type": "code",
   "execution_count": 53,
   "id": "3f1f88ba-6c0a-437a-9d06-5d8044677b65",
   "metadata": {},
   "outputs": [],
   "source": [
    "# 1D = []\n",
    "# 2D - [[],[],[]]\n",
    "# 3D = [2D, 2D, 2D]\n",
    "# 4D = [3d, 3d , 3d]"
   ]
  },
  {
   "cell_type": "code",
   "execution_count": 54,
   "id": "bd43927a-a9cc-4a74-931a-0857c3ead3a7",
   "metadata": {},
   "outputs": [
    {
     "data": {
      "text/plain": [
       "array([[[ 2, 37, 41, 47, 15],\n",
       "        [ 8, 44, 48, 34, 47],\n",
       "        [45, 44, 40, 18, 23],\n",
       "        [20, 47, 47, 32, 13],\n",
       "        [ 2, 19, 11, 35, 41],\n",
       "        [21, 24, 40, 13, 49],\n",
       "        [41, 13, 40,  4, 47],\n",
       "        [12, 13, 22, 29, 34],\n",
       "        [16, 32, 43,  2,  2],\n",
       "        [27, 36, 10, 19, 23]],\n",
       "\n",
       "       [[30, 11,  4,  2, 36],\n",
       "        [44, 23, 45, 25, 32],\n",
       "        [14,  6, 49, 24,  9],\n",
       "        [43, 41, 40, 20, 21],\n",
       "        [24, 43, 42, 30, 20],\n",
       "        [14,  2, 38, 23,  9],\n",
       "        [27, 13, 45, 33, 31],\n",
       "        [40, 27, 18, 23, 30],\n",
       "        [42, 45, 23, 28,  9],\n",
       "        [ 9, 49, 23, 46, 32]],\n",
       "\n",
       "       [[ 5, 40, 27, 48, 49],\n",
       "        [36, 13, 15, 33, 20],\n",
       "        [38, 39, 48, 20, 48],\n",
       "        [23, 38, 10, 32, 29],\n",
       "        [22, 44, 43, 10, 15],\n",
       "        [41, 14, 10, 17, 42],\n",
       "        [40, 29, 23, 44, 48],\n",
       "        [16, 34, 15, 15, 25],\n",
       "        [20, 31, 42, 15, 49],\n",
       "        [18, 11,  9, 33, 34]],\n",
       "\n",
       "       [[39, 14,  5, 48,  8],\n",
       "        [33, 27, 34, 23, 20],\n",
       "        [41, 36, 21, 19,  6],\n",
       "        [19,  6, 26, 32, 37],\n",
       "        [15,  2, 19, 40, 18],\n",
       "        [37, 28, 13, 16, 21],\n",
       "        [41,  7, 15, 24, 23],\n",
       "        [44,  7, 26, 47, 44],\n",
       "        [21, 35,  7, 21, 18],\n",
       "        [11, 18, 41, 34, 47]],\n",
       "\n",
       "       [[34, 22, 11, 38, 29],\n",
       "        [16, 29, 39, 44, 26],\n",
       "        [39, 36, 46, 10, 30],\n",
       "        [ 9,  5,  4, 17,  8],\n",
       "        [10, 30,  3, 19, 13],\n",
       "        [42, 12, 49,  9, 35],\n",
       "        [30, 19, 27,  2, 31],\n",
       "        [12, 25, 34, 49, 13],\n",
       "        [13, 45, 33, 37,  8],\n",
       "        [28, 36, 46, 25, 46]]])"
      ]
     },
     "execution_count": 54,
     "metadata": {},
     "output_type": "execute_result"
    }
   ],
   "source": [
    "arr = np.random.randint(2,50,(5,10,5))\n",
    "arr\n",
    "# 5 tables, 10 rows , 5 col, values are from 2 - 50\n",
    "# array([[[41.. if 3 boxes [[ like this then 3 "
   ]
  },
  {
   "cell_type": "code",
   "execution_count": 55,
   "id": "7ff73e1a-e483-46be-882c-2956088b9c45",
   "metadata": {},
   "outputs": [
    {
     "data": {
      "text/plain": [
       "(5, 10, 5)"
      ]
     },
     "execution_count": 55,
     "metadata": {},
     "output_type": "execute_result"
    }
   ],
   "source": [
    "arr.shape"
   ]
  },
  {
   "cell_type": "code",
   "execution_count": 56,
   "id": "cb722843-8139-44e9-8577-e26edcba3e59",
   "metadata": {},
   "outputs": [
    {
     "data": {
      "text/plain": [
       "3"
      ]
     },
     "execution_count": 56,
     "metadata": {},
     "output_type": "execute_result"
    }
   ],
   "source": [
    "arr.ndim"
   ]
  },
  {
   "cell_type": "code",
   "execution_count": 57,
   "id": "8eb2cbe4-a4a9-4eaa-9f9b-11b64c7b7a47",
   "metadata": {},
   "outputs": [
    {
     "data": {
      "text/plain": [
       "array([[ 2, 37, 41, 47, 15],\n",
       "       [ 8, 44, 48, 34, 47],\n",
       "       [45, 44, 40, 18, 23],\n",
       "       [20, 47, 47, 32, 13],\n",
       "       [ 2, 19, 11, 35, 41],\n",
       "       [21, 24, 40, 13, 49],\n",
       "       [41, 13, 40,  4, 47],\n",
       "       [12, 13, 22, 29, 34],\n",
       "       [16, 32, 43,  2,  2],\n",
       "       [27, 36, 10, 19, 23]])"
      ]
     },
     "execution_count": 57,
     "metadata": {},
     "output_type": "execute_result"
    }
   ],
   "source": [
    "arr[0] \n",
    "# the value i put 3rd table will give "
   ]
  },
  {
   "cell_type": "code",
   "execution_count": 58,
   "id": "8de827a3-8d63-4c34-865b-339beed75a3c",
   "metadata": {},
   "outputs": [],
   "source": [
    "# i want the elements   12, 32, 10, 44, 44, 22 from the last of 1st table\n",
    "# arr[8:0,2:0] doubt ask later "
   ]
  },
  {
   "cell_type": "code",
   "execution_count": 59,
   "id": "090e28a6-04fd-4eca-be4c-12f96d6a5f8b",
   "metadata": {},
   "outputs": [
    {
     "data": {
      "text/plain": [
       "array([[[ 2, 37, 41, 47, 15],\n",
       "        [ 8, 44, 48, 34, 47],\n",
       "        [45, 44, 40, 18, 23],\n",
       "        [20, 47, 47, 32, 13],\n",
       "        [ 2, 19, 11, 35, 41],\n",
       "        [21, 24, 40, 13, 49],\n",
       "        [41, 13, 40,  4, 47],\n",
       "        [12, 13, 22, 29, 34],\n",
       "        [16, 32, 43,  2,  2],\n",
       "        [27, 36, 10, 19, 23]],\n",
       "\n",
       "       [[30, 11,  4,  2, 36],\n",
       "        [44, 23, 45, 25, 32],\n",
       "        [14,  6, 49, 24,  9],\n",
       "        [43, 41, 40, 20, 21],\n",
       "        [24, 43, 42, 30, 20],\n",
       "        [14,  2, 38, 23,  9],\n",
       "        [27, 13, 45, 33, 31],\n",
       "        [40, 27, 18, 23, 30],\n",
       "        [42, 45, 23, 28,  9],\n",
       "        [ 9, 49, 23, 46, 32]],\n",
       "\n",
       "       [[ 5, 40, 27, 48, 49],\n",
       "        [36, 13, 15, 33, 20],\n",
       "        [38, 39, 48, 20, 48],\n",
       "        [23, 38, 10, 32, 29],\n",
       "        [22, 44, 43, 10, 15],\n",
       "        [41, 14, 10, 17, 42],\n",
       "        [40, 29, 23, 44, 48],\n",
       "        [16, 34, 15, 15, 25],\n",
       "        [20, 31, 42, 15, 49],\n",
       "        [18, 11,  9, 33, 34]],\n",
       "\n",
       "       [[39, 14,  5, 48,  8],\n",
       "        [33, 27, 34, 23, 20],\n",
       "        [41, 36, 21, 19,  6],\n",
       "        [19,  6, 26, 32, 37],\n",
       "        [15,  2, 19, 40, 18],\n",
       "        [37, 28, 13, 16, 21],\n",
       "        [41,  7, 15, 24, 23],\n",
       "        [44,  7, 26, 47, 44],\n",
       "        [21, 35,  7, 21, 18],\n",
       "        [11, 18, 41, 34, 47]],\n",
       "\n",
       "       [[34, 22, 11, 38, 29],\n",
       "        [16, 29, 39, 44, 26],\n",
       "        [39, 36, 46, 10, 30],\n",
       "        [ 9,  5,  4, 17,  8],\n",
       "        [10, 30,  3, 19, 13],\n",
       "        [42, 12, 49,  9, 35],\n",
       "        [30, 19, 27,  2, 31],\n",
       "        [12, 25, 34, 49, 13],\n",
       "        [13, 45, 33, 37,  8],\n",
       "        [28, 36, 46, 25, 46]]])"
      ]
     },
     "execution_count": 59,
     "metadata": {},
     "output_type": "execute_result"
    }
   ],
   "source": [
    "arr"
   ]
  },
  {
   "cell_type": "code",
   "execution_count": 60,
   "id": "1cb12fee-bff9-4f23-8d64-ae2a73364717",
   "metadata": {},
   "outputs": [
    {
     "data": {
      "text/plain": [
       "array([[ 2, 37, 41, 47, 15],\n",
       "       [ 8, 44, 48, 34, 47],\n",
       "       [45, 44, 40, 18, 23],\n",
       "       [20, 47, 47, 32, 13],\n",
       "       [ 2, 19, 11, 35, 41],\n",
       "       [21, 24, 40, 13, 49],\n",
       "       [41, 13, 40,  4, 47],\n",
       "       [12, 13, 22, 29, 34],\n",
       "       [16, 32, 43,  2,  2],\n",
       "       [27, 36, 10, 19, 23]])"
      ]
     },
     "execution_count": 60,
     "metadata": {},
     "output_type": "execute_result"
    }
   ],
   "source": [
    "arr[0]"
   ]
  },
  {
   "cell_type": "code",
   "execution_count": 61,
   "id": "4b05ed0e-dc3f-4d73-8fb7-903256ddf8db",
   "metadata": {},
   "outputs": [
    {
     "data": {
      "text/plain": [
       "array([[ 2, 37, 41, 47, 15],\n",
       "       [ 8, 44, 48, 34, 47],\n",
       "       [45, 44, 40, 18, 23],\n",
       "       [20, 47, 47, 32, 13],\n",
       "       [ 2, 19, 11, 35, 41],\n",
       "       [21, 24, 40, 13, 49],\n",
       "       [41, 13, 40,  4, 47],\n",
       "       [12, 13, 22, 29, 34],\n",
       "       [16, 32, 43,  2,  2],\n",
       "       [27, 36, 10, 19, 23]])"
      ]
     },
     "execution_count": 61,
     "metadata": {},
     "output_type": "execute_result"
    }
   ],
   "source": [
    "arr2 = arr[0]\n",
    "arr2"
   ]
  },
  {
   "cell_type": "code",
   "execution_count": 62,
   "id": "bf49668e-0261-4f95-aace-4fc8d914f01a",
   "metadata": {},
   "outputs": [
    {
     "data": {
      "text/plain": [
       "array([[43,  2,  2],\n",
       "       [10, 19, 23]])"
      ]
     },
     "execution_count": 62,
     "metadata": {},
     "output_type": "execute_result"
    }
   ],
   "source": [
    "arr2[8:,2:]"
   ]
  },
  {
   "cell_type": "code",
   "execution_count": 63,
   "id": "66a78d94-e8ff-419e-81eb-f5d2019afe86",
   "metadata": {},
   "outputs": [
    {
     "data": {
      "text/plain": [
       "array([[[43,  2,  2],\n",
       "        [10, 19, 23]]])"
      ]
     },
     "execution_count": 63,
     "metadata": {},
     "output_type": "execute_result"
    }
   ],
   "source": [
    "arr[:1:,8::,2::] #only for 3D to slice"
   ]
  },
  {
   "cell_type": "code",
   "execution_count": 64,
   "id": "55da7095-165e-485b-8f96-51e885f067a2",
   "metadata": {},
   "outputs": [
    {
     "data": {
      "text/plain": [
       "array([[[27, 36, 10, 19, 23]],\n",
       "\n",
       "       [[ 9, 49, 23, 46, 32]],\n",
       "\n",
       "       [[18, 11,  9, 33, 34]],\n",
       "\n",
       "       [[11, 18, 41, 34, 47]],\n",
       "\n",
       "       [[28, 36, 46, 25, 46]]])"
      ]
     },
     "execution_count": 64,
     "metadata": {},
     "output_type": "execute_result"
    }
   ],
   "source": [
    "# if i want last row of every table \n",
    "arr[:,9:,:]"
   ]
  },
  {
   "cell_type": "code",
   "execution_count": 65,
   "id": "593b71f8-208d-417c-962e-72a4afa6f530",
   "metadata": {},
   "outputs": [
    {
     "data": {
      "text/plain": [
       "array([7, 5, 9])"
      ]
     },
     "execution_count": 65,
     "metadata": {},
     "output_type": "execute_result"
    }
   ],
   "source": [
    "arr = np.array([7,5,9])\n",
    "arr"
   ]
  },
  {
   "cell_type": "code",
   "execution_count": 66,
   "id": "4fc761d3-df70-46a8-b3ff-36f4e66deaec",
   "metadata": {},
   "outputs": [
    {
     "data": {
      "text/plain": [
       "9"
      ]
     },
     "execution_count": 66,
     "metadata": {},
     "output_type": "execute_result"
    }
   ],
   "source": [
    "# arr.min()\n",
    "arr.max()"
   ]
  },
  {
   "cell_type": "code",
   "execution_count": 67,
   "id": "ab0f4043-d7b5-4c91-9ade-9499708b7918",
   "metadata": {},
   "outputs": [
    {
     "data": {
      "text/plain": [
       "2"
      ]
     },
     "execution_count": 67,
     "metadata": {},
     "output_type": "execute_result"
    }
   ],
   "source": [
    "arr.argmax()\n",
    "# arr.argmin()\n",
    "# what is the diff btw argmax and max\n",
    "# max - retuen max item\n",
    "# argmax - retuns index pos of the max item"
   ]
  },
  {
   "cell_type": "code",
   "execution_count": 68,
   "id": "79801a25-acc1-418e-8ea8-64ee92c97f9e",
   "metadata": {},
   "outputs": [
    {
     "data": {
      "text/plain": [
       "array([5, 7, 9])"
      ]
     },
     "execution_count": 68,
     "metadata": {},
     "output_type": "execute_result"
    }
   ],
   "source": [
    "arr.sort()\n",
    "arr\n",
    "# this sort in accending "
   ]
  },
  {
   "cell_type": "code",
   "execution_count": 69,
   "id": "d96dcc01-b850-4e9a-be60-59238d864a8a",
   "metadata": {},
   "outputs": [
    {
     "data": {
      "text/plain": [
       "array([9, 7, 5])"
      ]
     },
     "execution_count": 69,
     "metadata": {},
     "output_type": "execute_result"
    }
   ],
   "source": [
    "arr[::-1] # to print in the reverse order # try to undersatnd this again"
   ]
  },
  {
   "cell_type": "code",
   "execution_count": 70,
   "id": "b88b6eca-9019-42f3-93f5-8a056003be04",
   "metadata": {},
   "outputs": [
    {
     "data": {
      "text/plain": [
       "array([0, 1, 2], dtype=int64)"
      ]
     },
     "execution_count": 70,
     "metadata": {},
     "output_type": "execute_result"
    }
   ],
   "source": [
    "arr.argsort()"
   ]
  },
  {
   "cell_type": "code",
   "execution_count": 71,
   "id": "b8d25f1e-f0f7-4205-8871-5f331e696cc6",
   "metadata": {},
   "outputs": [
    {
     "data": {
      "text/plain": [
       "array([5, 7, 9])"
      ]
     },
     "execution_count": 71,
     "metadata": {},
     "output_type": "execute_result"
    }
   ],
   "source": [
    "arr  #[0, 1, 2] now match this with below value, its the index of the array given below "
   ]
  },
  {
   "cell_type": "code",
   "execution_count": 72,
   "id": "643e9459-0815-45ee-bcd2-014af8169d5a",
   "metadata": {},
   "outputs": [],
   "source": [
    "# diff btw sort and argsort\n",
    "# sort - gives the value in accending order\n",
    "# argsort - gives the postion in the array given"
   ]
  },
  {
   "cell_type": "code",
   "execution_count": 73,
   "id": "5f0e1f7a-d1a6-4e6c-aadd-e19d8397ec81",
   "metadata": {},
   "outputs": [
    {
     "data": {
      "text/plain": [
       "array([[ 3,  2,  3,  5,  4],\n",
       "       [10, 11,  2,  9,  4],\n",
       "       [11,  4,  6, 10,  3],\n",
       "       [ 5,  7,  3,  6,  4],\n",
       "       [11,  3,  9,  4, 10],\n",
       "       [ 4,  6, 10,  3,  4],\n",
       "       [10,  3, 11,  3,  9],\n",
       "       [ 3, 10,  3,  4,  8],\n",
       "       [ 5,  4, 11, 10,  7],\n",
       "       [ 3,  6, 10,  3,  2]])"
      ]
     },
     "execution_count": 73,
     "metadata": {},
     "output_type": "execute_result"
    }
   ],
   "source": [
    "arr = np.random.randint(2,12,(10,5))\n",
    "arr"
   ]
  },
  {
   "cell_type": "code",
   "execution_count": 74,
   "id": "607e7a91-a2dc-41b3-9788-047bfce9ee41",
   "metadata": {},
   "outputs": [
    {
     "data": {
      "text/plain": [
       "array([ 2,  3,  4,  5,  6,  7,  8,  9, 10, 11])"
      ]
     },
     "execution_count": 74,
     "metadata": {},
     "output_type": "execute_result"
    }
   ],
   "source": [
    "np.unique(arr) # give all the unique itmes in this fn"
   ]
  },
  {
   "cell_type": "code",
   "execution_count": 75,
   "id": "504ae142-af2c-4ce9-8b4f-0db432fcb522",
   "metadata": {},
   "outputs": [
    {
     "data": {
      "text/plain": [
       "array([120, 160,   8, 155, 108,  78, 120,  25,  73, 101, 156,  32, 142,\n",
       "       211, 134, 118, 169, 166,  87, 131, 172,  40, 161, 185,  78, 179,\n",
       "       121, 139, 179,  18,   2, 200,  32, 200, 106, 222,  20, 209,  36,\n",
       "        64, 165,  83,   4, 128, 245,  22, 132, 100, 180,  98,  61, 208,\n",
       "       182,  84,  44, 247,  37, 138, 226,  10,  94,   7, 101,  74,   6,\n",
       "       164, 235,  65, 195, 166, 220, 117, 137,  39, 216,  34,  26, 187,\n",
       "        63, 157, 108,  26, 230, 213, 185, 233,  44, 194, 122, 179,  98,\n",
       "        16, 142, 246, 154, 236, 240, 248, 229,  64, 230,  79,  80, 215,\n",
       "       194, 119,  78, 202,  79, 220, 210, 120, 153,  71,  39, 178, 165,\n",
       "        56,  75,  42,   5, 141,  65,  70, 243, 123,  36,   6, 234,  12,\n",
       "       249,  61,  27,  92, 174, 145, 156, 214,  99,  28, 199, 230,  28,\n",
       "       243,  53,  25, 217, 148, 112,  18, 188,  79,  58,  92, 135, 142,\n",
       "       128,  40,  36,  29, 157,  87, 247,  97,  58, 203, 161,  27, 133,\n",
       "        90, 191, 141, 132, 229, 192,  77, 234, 191, 202,  43, 216, 104,\n",
       "       102, 125,  27, 182,  82,  35,   9, 233,  34, 198, 242,   8, 140,\n",
       "       194, 145, 172,  29, 224])"
      ]
     },
     "execution_count": 75,
     "metadata": {},
     "output_type": "execute_result"
    }
   ],
   "source": [
    "arr = np.random.randint(2,250,200)\n",
    "arr"
   ]
  },
  {
   "cell_type": "code",
   "execution_count": 76,
   "id": "45e05382-437f-414a-a7f6-73d9e6337a6b",
   "metadata": {},
   "outputs": [
    {
     "data": {
      "text/plain": [
       "5377.721975"
      ]
     },
     "execution_count": 76,
     "metadata": {},
     "output_type": "execute_result"
    }
   ],
   "source": [
    "arr.var() #var means varients "
   ]
  },
  {
   "cell_type": "code",
   "execution_count": 77,
   "id": "3080e6ec-2e01-4731-ad13-abc502f921c1",
   "metadata": {},
   "outputs": [
    {
     "data": {
      "text/plain": [
       "126.5"
      ]
     },
     "execution_count": 77,
     "metadata": {},
     "output_type": "execute_result"
    }
   ],
   "source": [
    "np.median(arr)"
   ]
  },
  {
   "cell_type": "code",
   "execution_count": 78,
   "id": "07d4071a-f0a0-4304-b042-8a69bcc67bfe",
   "metadata": {},
   "outputs": [
    {
     "data": {
      "text/plain": [
       "73.33295285886147"
      ]
     },
     "execution_count": 78,
     "metadata": {},
     "output_type": "execute_result"
    }
   ],
   "source": [
    "arr.std() #standard division"
   ]
  },
  {
   "cell_type": "code",
   "execution_count": 79,
   "id": "1ebfef6a-e4ba-4c71-a6e1-45dc4b9ea6b8",
   "metadata": {},
   "outputs": [
    {
     "data": {
      "text/plain": [
       "5.0"
      ]
     },
     "execution_count": 79,
     "metadata": {},
     "output_type": "execute_result"
    }
   ],
   "source": [
    "np.sqrt(25) #to find sq root"
   ]
  },
  {
   "cell_type": "markdown",
   "id": "7d72c594-5b19-4938-8063-6b03943b33b9",
   "metadata": {},
   "source": [
    "# ---------------------------------------End of Numpy----------------------------"
   ]
  },
  {
   "cell_type": "code",
   "execution_count": null,
   "id": "db660110-ab4e-47ec-a8a1-dabbef525d7c",
   "metadata": {},
   "outputs": [],
   "source": []
  }
 ],
 "metadata": {
  "kernelspec": {
   "display_name": "Python 3 (ipykernel)",
   "language": "python",
   "name": "python3"
  },
  "language_info": {
   "codemirror_mode": {
    "name": "ipython",
    "version": 3
   },
   "file_extension": ".py",
   "mimetype": "text/x-python",
   "name": "python",
   "nbconvert_exporter": "python",
   "pygments_lexer": "ipython3",
   "version": "3.8.10"
  }
 },
 "nbformat": 4,
 "nbformat_minor": 5
}
