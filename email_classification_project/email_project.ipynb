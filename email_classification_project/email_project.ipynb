{
 "cells": [
  {
   "cell_type": "markdown",
   "id": "9cd10312-f9e0-4bc4-9f8f-fe751bb7fea7",
   "metadata": {},
   "source": [
    "# Email Classification Project ---- Spam/Ham"
   ]
  },
  {
   "cell_type": "code",
   "execution_count": 1,
   "id": "829f5dbb-94bb-4cfa-81d4-998980ecb9ce",
   "metadata": {},
   "outputs": [],
   "source": [
    "import pandas as pd\n",
    "import numpy as np\n",
    "from sklearn.feature_extraction.text import CountVectorizer, TfidfVectorizer\n",
    "import seaborn as sns\n",
    "import matplotlib.pyplot as plt\n"
   ]
  },
  {
   "cell_type": "code",
   "execution_count": 2,
   "id": "7db79e51-2dcc-45ad-ba81-a418422f4092",
   "metadata": {},
   "outputs": [],
   "source": [
    "# reading data from text file \n",
    "with open('SMSSpamCollection.txt','r') as file: \n",
    "    data = file.read()"
   ]
  },
  {
   "cell_type": "code",
   "execution_count": 3,
   "id": "6b5cc76b-0dee-4c3a-b424-fbbc3895af54",
   "metadata": {},
   "outputs": [],
   "source": [
    "temp = data.split('\\n')"
   ]
  },
  {
   "cell_type": "code",
   "execution_count": 4,
   "id": "7ce564d4-a8bd-42ee-bdd6-a3f8685799c0",
   "metadata": {},
   "outputs": [
    {
     "name": "stdout",
     "output_type": "stream",
     "text": [
      "No. of emails :  5575\n"
     ]
    }
   ],
   "source": [
    "print(\"No. of emails : \",len(temp) )"
   ]
  },
  {
   "cell_type": "code",
   "execution_count": 5,
   "id": "23d9a4f0-9538-4075-bba2-98278bc687dd",
   "metadata": {},
   "outputs": [],
   "source": [
    "x = [] \n",
    "y = [] \n",
    "for email_with_label in temp: \n",
    "    temp_emails = email_with_label.split('\\t') \n",
    "    if len(temp_emails) == 2 : \n",
    "        x.append(temp_emails[1])\n",
    "        y.append(temp_emails[0])\n",
    "        \n",
    "    "
   ]
  },
  {
   "cell_type": "code",
   "execution_count": 6,
   "id": "e7ce1c60-5b65-48c5-9043-f8bc4b667b9c",
   "metadata": {},
   "outputs": [
    {
     "data": {
      "text/plain": [
       "(5574, 5574)"
      ]
     },
     "execution_count": 6,
     "metadata": {},
     "output_type": "execute_result"
    }
   ],
   "source": [
    "len(x),len(y)"
   ]
  },
  {
   "cell_type": "code",
   "execution_count": 7,
   "id": "6de80340-fc43-41b9-b1b3-2748a585b235",
   "metadata": {},
   "outputs": [
    {
     "data": {
      "text/html": [
       "<div>\n",
       "<style scoped>\n",
       "    .dataframe tbody tr th:only-of-type {\n",
       "        vertical-align: middle;\n",
       "    }\n",
       "\n",
       "    .dataframe tbody tr th {\n",
       "        vertical-align: top;\n",
       "    }\n",
       "\n",
       "    .dataframe thead th {\n",
       "        text-align: right;\n",
       "    }\n",
       "</style>\n",
       "<table border=\"1\" class=\"dataframe\">\n",
       "  <thead>\n",
       "    <tr style=\"text-align: right;\">\n",
       "      <th></th>\n",
       "      <th>email_message</th>\n",
       "      <th>label</th>\n",
       "    </tr>\n",
       "  </thead>\n",
       "  <tbody>\n",
       "    <tr>\n",
       "      <th>0</th>\n",
       "      <td>Go until jurong point, crazy.. Available only ...</td>\n",
       "      <td>ham</td>\n",
       "    </tr>\n",
       "    <tr>\n",
       "      <th>1</th>\n",
       "      <td>Ok lar... Joking wif u oni...</td>\n",
       "      <td>ham</td>\n",
       "    </tr>\n",
       "    <tr>\n",
       "      <th>2</th>\n",
       "      <td>Free entry in 2 a wkly comp to win FA Cup fina...</td>\n",
       "      <td>spam</td>\n",
       "    </tr>\n",
       "    <tr>\n",
       "      <th>3</th>\n",
       "      <td>U dun say so early hor... U c already then say...</td>\n",
       "      <td>ham</td>\n",
       "    </tr>\n",
       "    <tr>\n",
       "      <th>4</th>\n",
       "      <td>Nah I don't think he goes to usf, he lives aro...</td>\n",
       "      <td>ham</td>\n",
       "    </tr>\n",
       "  </tbody>\n",
       "</table>\n",
       "</div>"
      ],
      "text/plain": [
       "                                       email_message label\n",
       "0  Go until jurong point, crazy.. Available only ...   ham\n",
       "1                      Ok lar... Joking wif u oni...   ham\n",
       "2  Free entry in 2 a wkly comp to win FA Cup fina...  spam\n",
       "3  U dun say so early hor... U c already then say...   ham\n",
       "4  Nah I don't think he goes to usf, he lives aro...   ham"
      ]
     },
     "execution_count": 7,
     "metadata": {},
     "output_type": "execute_result"
    }
   ],
   "source": [
    "# dataframe\n",
    "dt = {'email_message':x,\"label\":y}\n",
    "email_data = pd.DataFrame(dt)\n",
    "email_data.head()"
   ]
  },
  {
   "cell_type": "code",
   "execution_count": 8,
   "id": "d1e1eeb0-8163-4617-b387-56404a883de7",
   "metadata": {},
   "outputs": [],
   "source": [
    "# df2 = pd.read_table('SMSSpamCollection.txt',header=None)\n",
    "# df2.columns = ['label','email_message']"
   ]
  },
  {
   "cell_type": "code",
   "execution_count": 9,
   "id": "543bca2d-587d-422c-b667-530b6dc361b0",
   "metadata": {},
   "outputs": [],
   "source": [
    "# df2.head()"
   ]
  },
  {
   "cell_type": "code",
   "execution_count": 10,
   "id": "cc8c81ec-d5ab-4ae2-9ea7-208032dd168f",
   "metadata": {},
   "outputs": [
    {
     "data": {
      "text/plain": [
       "label\n",
       "ham     4827\n",
       "spam     747\n",
       "Name: count, dtype: int64"
      ]
     },
     "execution_count": 10,
     "metadata": {},
     "output_type": "execute_result"
    }
   ],
   "source": [
    "# problem statment is reg or classifcication \n",
    "# ans is classification \n",
    "# we need to clasify the ham and spam\n",
    "\n",
    "# is the data is blancnce or imbalacne\n",
    "\n",
    "email_data['label'].value_counts()"
   ]
  },
  {
   "cell_type": "code",
   "execution_count": 11,
   "id": "b153eae1-1176-47ce-9a9d-4595b909b56c",
   "metadata": {},
   "outputs": [],
   "source": [
    "# 80% are ham\n",
    "# 20% are spam\n",
    "# now this is imbalanced ratio\n",
    "# we need to bring it to 60 - 50 then we can say it is trained well\n",
    "\n",
    "\n",
    "# how to do that, we can add the sapm email to equal the ham, incr or decr to make it balanced\n",
    "# now we r going to remove the ham email to equle the spam."
   ]
  },
  {
   "cell_type": "code",
   "execution_count": 12,
   "id": "3948ab34-0886-407c-b591-d51972077a56",
   "metadata": {},
   "outputs": [],
   "source": [
    "ham = email_data[email_data[\"label\"]== \"ham\"]\n",
    "spam = email_data[email_data[\"label\"]== \"spam\"]"
   ]
  },
  {
   "cell_type": "code",
   "execution_count": 13,
   "id": "54a0e12f-077e-4b8a-aeb1-7b5011fa586a",
   "metadata": {},
   "outputs": [
    {
     "data": {
      "text/html": [
       "<div>\n",
       "<style scoped>\n",
       "    .dataframe tbody tr th:only-of-type {\n",
       "        vertical-align: middle;\n",
       "    }\n",
       "\n",
       "    .dataframe tbody tr th {\n",
       "        vertical-align: top;\n",
       "    }\n",
       "\n",
       "    .dataframe thead th {\n",
       "        text-align: right;\n",
       "    }\n",
       "</style>\n",
       "<table border=\"1\" class=\"dataframe\">\n",
       "  <thead>\n",
       "    <tr style=\"text-align: right;\">\n",
       "      <th></th>\n",
       "      <th>email_message</th>\n",
       "      <th>label</th>\n",
       "    </tr>\n",
       "  </thead>\n",
       "  <tbody>\n",
       "    <tr>\n",
       "      <th>4076</th>\n",
       "      <td>God picked up a flower and dippeditinaDEW, lov...</td>\n",
       "      <td>ham</td>\n",
       "    </tr>\n",
       "    <tr>\n",
       "      <th>2633</th>\n",
       "      <td>I WILL CAL YOU SIR. In meeting</td>\n",
       "      <td>ham</td>\n",
       "    </tr>\n",
       "    <tr>\n",
       "      <th>851</th>\n",
       "      <td>U reach orchard already? U wan 2 go buy ticket...</td>\n",
       "      <td>ham</td>\n",
       "    </tr>\n",
       "    <tr>\n",
       "      <th>4266</th>\n",
       "      <td>&amp;lt;DECIMAL&amp;gt; m but its not a common car he...</td>\n",
       "      <td>ham</td>\n",
       "    </tr>\n",
       "    <tr>\n",
       "      <th>4366</th>\n",
       "      <td>Ujhhhhhhh computer shipped out with address to...</td>\n",
       "      <td>ham</td>\n",
       "    </tr>\n",
       "    <tr>\n",
       "      <th>...</th>\n",
       "      <td>...</td>\n",
       "      <td>...</td>\n",
       "    </tr>\n",
       "    <tr>\n",
       "      <th>3526</th>\n",
       "      <td>I not free today i haf 2 pick my parents up to...</td>\n",
       "      <td>ham</td>\n",
       "    </tr>\n",
       "    <tr>\n",
       "      <th>3583</th>\n",
       "      <td>You are right. Meanwhile how's project twins c...</td>\n",
       "      <td>ham</td>\n",
       "    </tr>\n",
       "    <tr>\n",
       "      <th>2952</th>\n",
       "      <td>Hey now am free you can call me.</td>\n",
       "      <td>ham</td>\n",
       "    </tr>\n",
       "    <tr>\n",
       "      <th>4872</th>\n",
       "      <td>Well. You know what i mean. Texting</td>\n",
       "      <td>ham</td>\n",
       "    </tr>\n",
       "    <tr>\n",
       "      <th>88</th>\n",
       "      <td>I'm really not up to it still tonight babe</td>\n",
       "      <td>ham</td>\n",
       "    </tr>\n",
       "  </tbody>\n",
       "</table>\n",
       "<p>1000 rows × 2 columns</p>\n",
       "</div>"
      ],
      "text/plain": [
       "                                          email_message label\n",
       "4076  God picked up a flower and dippeditinaDEW, lov...   ham\n",
       "2633                     I WILL CAL YOU SIR. In meeting   ham\n",
       "851   U reach orchard already? U wan 2 go buy ticket...   ham\n",
       "4266   &lt;DECIMAL&gt; m but its not a common car he...   ham\n",
       "4366  Ujhhhhhhh computer shipped out with address to...   ham\n",
       "...                                                 ...   ...\n",
       "3526  I not free today i haf 2 pick my parents up to...   ham\n",
       "3583  You are right. Meanwhile how's project twins c...   ham\n",
       "2952                   Hey now am free you can call me.   ham\n",
       "4872                Well. You know what i mean. Texting   ham\n",
       "88           I'm really not up to it still tonight babe   ham\n",
       "\n",
       "[1000 rows x 2 columns]"
      ]
     },
     "execution_count": 13,
     "metadata": {},
     "output_type": "execute_result"
    }
   ],
   "source": [
    "ham.sample(1000) #selects random records 1000"
   ]
  },
  {
   "cell_type": "code",
   "execution_count": 14,
   "id": "b16c7f6e-df24-4fd6-b145-e5c93227206f",
   "metadata": {},
   "outputs": [],
   "source": [
    "ham = ham.sample(1000)"
   ]
  },
  {
   "cell_type": "code",
   "execution_count": 15,
   "id": "959e984d-2ab2-4b95-a9e8-d9706b663075",
   "metadata": {},
   "outputs": [
    {
     "data": {
      "text/plain": [
       "((747, 2), (1000, 2))"
      ]
     },
     "execution_count": 15,
     "metadata": {},
     "output_type": "execute_result"
    }
   ],
   "source": [
    "spam.shape, ham.shape"
   ]
  },
  {
   "cell_type": "code",
   "execution_count": 16,
   "id": "4dec2b4f-0480-49c0-9ab6-049d3920e61a",
   "metadata": {},
   "outputs": [
    {
     "data": {
      "text/html": [
       "<div>\n",
       "<style scoped>\n",
       "    .dataframe tbody tr th:only-of-type {\n",
       "        vertical-align: middle;\n",
       "    }\n",
       "\n",
       "    .dataframe tbody tr th {\n",
       "        vertical-align: top;\n",
       "    }\n",
       "\n",
       "    .dataframe thead th {\n",
       "        text-align: right;\n",
       "    }\n",
       "</style>\n",
       "<table border=\"1\" class=\"dataframe\">\n",
       "  <thead>\n",
       "    <tr style=\"text-align: right;\">\n",
       "      <th></th>\n",
       "      <th>email_message</th>\n",
       "      <th>label</th>\n",
       "    </tr>\n",
       "  </thead>\n",
       "  <tbody>\n",
       "    <tr>\n",
       "      <th>554</th>\n",
       "      <td>Ok. Every night take a warm bath drink a cup o...</td>\n",
       "      <td>ham</td>\n",
       "    </tr>\n",
       "    <tr>\n",
       "      <th>633</th>\n",
       "      <td>Oh that was a forwarded message. I thought you...</td>\n",
       "      <td>ham</td>\n",
       "    </tr>\n",
       "    <tr>\n",
       "      <th>1803</th>\n",
       "      <td>Ok lor thanx... Ãœ in school?</td>\n",
       "      <td>ham</td>\n",
       "    </tr>\n",
       "    <tr>\n",
       "      <th>4263</th>\n",
       "      <td>You'll never believe this but i have actually ...</td>\n",
       "      <td>ham</td>\n",
       "    </tr>\n",
       "    <tr>\n",
       "      <th>55</th>\n",
       "      <td>Do you know what Mallika Sherawat did yesterda...</td>\n",
       "      <td>ham</td>\n",
       "    </tr>\n",
       "  </tbody>\n",
       "</table>\n",
       "</div>"
      ],
      "text/plain": [
       "                                          email_message label\n",
       "554   Ok. Every night take a warm bath drink a cup o...   ham\n",
       "633   Oh that was a forwarded message. I thought you...   ham\n",
       "1803                      Ok lor thanx... Ãœ in school?   ham\n",
       "4263  You'll never believe this but i have actually ...   ham\n",
       "55    Do you know what Mallika Sherawat did yesterda...   ham"
      ]
     },
     "execution_count": 16,
     "metadata": {},
     "output_type": "execute_result"
    }
   ],
   "source": [
    "# going to combine both\n",
    "final_df=pd.concat([ham,spam],axis=0)\n",
    "# 0 means row in here axis, i dont want in col wise, i want it row thats y\n",
    "final_df.head()"
   ]
  },
  {
   "cell_type": "code",
   "execution_count": 17,
   "id": "d69124c8-1f05-473d-8287-85c0e988b03e",
   "metadata": {},
   "outputs": [
    {
     "data": {
      "text/plain": [
       "email_message    0\n",
       "label            0\n",
       "dtype: int64"
      ]
     },
     "execution_count": 17,
     "metadata": {},
     "output_type": "execute_result"
    }
   ],
   "source": [
    "missing_values = final_df.isnull().sum()\n",
    "missing_values\n",
    "# to cross verify is there any missing value are not "
   ]
  },
  {
   "cell_type": "code",
   "execution_count": 18,
   "id": "228239e0-d024-4c05-b171-5f5fae7dfeb9",
   "metadata": {},
   "outputs": [
    {
     "data": {
      "text/plain": [
       "(1747, 2)"
      ]
     },
     "execution_count": 18,
     "metadata": {},
     "output_type": "execute_result"
    }
   ],
   "source": [
    "final_df.shape"
   ]
  },
  {
   "cell_type": "code",
   "execution_count": 19,
   "id": "08700d8f-8c93-445c-8fe8-10ba24da6d77",
   "metadata": {},
   "outputs": [],
   "source": [
    "# Text cleaning \n",
    "# final_df.head()\n",
    "# now we are gonna convert it in the form of 0 and 1\n",
    "# before that we need to clean the \n",
    "import re # regular expression "
   ]
  },
  {
   "cell_type": "code",
   "execution_count": 20,
   "id": "1449d052-f5d0-4362-829c-89f193e02b0b",
   "metadata": {},
   "outputs": [
    {
     "data": {
      "text/plain": [
       "\"Free entry in 2 a wkly comp to win FA Cup final tkts 21st May 2005. Text FA to 87121 to receive entry question(std txt rate)T&C's apply 08452810075over18's\""
      ]
     },
     "execution_count": 20,
     "metadata": {},
     "output_type": "execute_result"
    }
   ],
   "source": [
    "final_df['email_message'][2]\n"
   ]
  },
  {
   "cell_type": "code",
   "execution_count": 21,
   "id": "5e663c7b-9e0e-473f-a9b4-fe91e35c3089",
   "metadata": {},
   "outputs": [],
   "source": [
    "# the indexing is being updated, coz we have combined it\n",
    "# index reassigning \n",
    "final_df.reset_index(drop = True, inplace = True ) #drop will reomove the old"
   ]
  },
  {
   "cell_type": "code",
   "execution_count": 22,
   "id": "eb0d4464-8e5c-47be-a745-2d4b25e06571",
   "metadata": {},
   "outputs": [
    {
     "data": {
      "text/plain": [
       "\"Oh shut it. Omg yesterday I had a dream that I had 2 kids both boys. I was so pissed. Not only about the kids but them being boys. I even told mark in my dream that he was changing diapers cause I'm not getting owed in the face.\""
      ]
     },
     "execution_count": 22,
     "metadata": {},
     "output_type": "execute_result"
    }
   ],
   "source": [
    "final_df['email_message'][25]\n"
   ]
  },
  {
   "cell_type": "code",
   "execution_count": 23,
   "id": "15367061-a5ee-4429-94b3-218e8eb45d76",
   "metadata": {},
   "outputs": [
    {
     "data": {
      "text/plain": [
       "'oh shut it omg yesterday i had a dream that i had  kids both boys i was so pissed not only about the kids but them being boys i even told mark in my dream that he was changing diapers cause im not getting owed in the face'"
      ]
     },
     "execution_count": 23,
     "metadata": {},
     "output_type": "execute_result"
    }
   ],
   "source": [
    "# a-z, A-Z values will be conisidering in the email_messages in oreder to ignore the &,!,@ etc stuff\n",
    "re.sub('[^a-zA-Z ]','',final_df['email_message'][25]).lower() #^ means not \n"
   ]
  },
  {
   "cell_type": "code",
   "execution_count": 24,
   "id": "abe82e68-dbed-43b4-a4df-7606a3edaa04",
   "metadata": {},
   "outputs": [],
   "source": [
    "# to final df and apply this operation on all the email\n",
    "# final_df['cleaned_email_message'] = final_df['email_message'].apply(lambda x: re.sub('[^a-zA-Z ]', '', x).lower())\n",
    "# final_df.head()\n",
    "\n",
    "\n",
    "for i in range(len(final_df)):\n",
    "    final_df['email_message'][i] =  re.sub('[^a-zA-Z ]', '',final_df['email_message'][i]).lower()\n",
    "    final_df.head()\n"
   ]
  },
  {
   "cell_type": "code",
   "execution_count": 25,
   "id": "31b61e82-a827-40f7-a6cb-0913fac5ca6c",
   "metadata": {},
   "outputs": [
    {
     "data": {
      "text/plain": [
       "'customer place i will call you'"
      ]
     },
     "execution_count": 25,
     "metadata": {},
     "output_type": "execute_result"
    }
   ],
   "source": [
    "final_df['email_message'][392]\n"
   ]
  },
  {
   "cell_type": "code",
   "execution_count": 26,
   "id": "476dfa20-a45d-4eb2-bfae-77f4a1b728dc",
   "metadata": {},
   "outputs": [],
   "source": [
    "# labels = (final_df[\"label\"])\n",
    "labels = list(final_df['label'])\n",
    "temp_labels = [1 if item == \"spam\" else 0 for item in labels]\n",
    "final_df[\"label\"]=temp_labels\n",
    "# labels.head()"
   ]
  },
  {
   "cell_type": "code",
   "execution_count": 27,
   "id": "3bfe5a76-381c-4571-a56f-5af68d283f2c",
   "metadata": {},
   "outputs": [],
   "source": [
    "import pandas as pd\n",
    "import numpy as np\n",
    "from sklearn.feature_extraction.text import CountVectorizer\n",
    "from sklearn.feature_extraction.text import TfidfVectorizer\n",
    "\n"
   ]
  },
  {
   "cell_type": "code",
   "execution_count": 28,
   "id": "5b026a72-03b6-42a9-87e1-367c09d76b56",
   "metadata": {},
   "outputs": [
    {
     "data": {
      "text/plain": [
       "[16,\n",
       " 764,\n",
       " 135,\n",
       " 26,\n",
       " 77,\n",
       " 387,\n",
       " 847,\n",
       " 919,\n",
       " 603,\n",
       " 139,\n",
       " 703,\n",
       " 680,\n",
       " 944,\n",
       " 502,\n",
       " 958,\n",
       " 798,\n",
       " 428,\n",
       " 588,\n",
       " 137,\n",
       " 991,\n",
       " 614,\n",
       " 747,\n",
       " 182,\n",
       " 698,\n",
       " 868,\n",
       " 910,\n",
       " 444,\n",
       " 301,\n",
       " 598,\n",
       " 763,\n",
       " 735,\n",
       " 504,\n",
       " 166,\n",
       " 83,\n",
       " 937,\n",
       " 112,\n",
       " 341,\n",
       " 447,\n",
       " 861,\n",
       " 942,\n",
       " 30,\n",
       " 196,\n",
       " 973,\n",
       " 474,\n",
       " 791,\n",
       " 937,\n",
       " 409,\n",
       " 595,\n",
       " 39,\n",
       " 493,\n",
       " 411,\n",
       " 169,\n",
       " 460,\n",
       " 47,\n",
       " 514,\n",
       " 1,\n",
       " 468,\n",
       " 347,\n",
       " 915,\n",
       " 1,\n",
       " 253,\n",
       " 356,\n",
       " 224,\n",
       " 926,\n",
       " 273,\n",
       " 940,\n",
       " 317,\n",
       " 812,\n",
       " 978,\n",
       " 387,\n",
       " 630,\n",
       " 729,\n",
       " 282,\n",
       " 235,\n",
       " 496,\n",
       " 449,\n",
       " 484,\n",
       " 863,\n",
       " 429,\n",
       " 226,\n",
       " 101,\n",
       " 192,\n",
       " 254,\n",
       " 480,\n",
       " 716,\n",
       " 837,\n",
       " 406,\n",
       " 528,\n",
       " 731,\n",
       " 459,\n",
       " 155,\n",
       " 724,\n",
       " 597,\n",
       " 231,\n",
       " 954,\n",
       " 43,\n",
       " 430,\n",
       " 564,\n",
       " 849,\n",
       " 58,\n",
       " 685,\n",
       " 586,\n",
       " 295,\n",
       " 965,\n",
       " 185,\n",
       " 829,\n",
       " 981,\n",
       " 786,\n",
       " 259,\n",
       " 180,\n",
       " 923,\n",
       " 234,\n",
       " 307,\n",
       " 665,\n",
       " 887,\n",
       " 252,\n",
       " 630,\n",
       " 227,\n",
       " 801,\n",
       " 124,\n",
       " 954,\n",
       " 610,\n",
       " 642,\n",
       " 378,\n",
       " 342,\n",
       " 231,\n",
       " 91,\n",
       " 820,\n",
       " 624,\n",
       " 232,\n",
       " 289,\n",
       " 618,\n",
       " 593,\n",
       " 540,\n",
       " 607,\n",
       " 974,\n",
       " 20,\n",
       " 587,\n",
       " 399,\n",
       " 250,\n",
       " 262,\n",
       " 290,\n",
       " 350,\n",
       " 875,\n",
       " 546,\n",
       " 524,\n",
       " 55,\n",
       " 53,\n",
       " 963,\n",
       " 113,\n",
       " 778,\n",
       " 323,\n",
       " 49,\n",
       " 454,\n",
       " 170,\n",
       " 680,\n",
       " 9,\n",
       " 257,\n",
       " 414,\n",
       " 653,\n",
       " 341,\n",
       " 935,\n",
       " 842,\n",
       " 972,\n",
       " 537,\n",
       " 910,\n",
       " 87,\n",
       " 569,\n",
       " 140,\n",
       " 358,\n",
       " 709,\n",
       " 824,\n",
       " 244,\n",
       " 305,\n",
       " 292,\n",
       " 704,\n",
       " 590,\n",
       " 278,\n",
       " 573,\n",
       " 690,\n",
       " 993,\n",
       " 392,\n",
       " 449,\n",
       " 428,\n",
       " 521,\n",
       " 978,\n",
       " 784,\n",
       " 71,\n",
       " 30,\n",
       " 702,\n",
       " 192,\n",
       " 94,\n",
       " 594,\n",
       " 377,\n",
       " 699,\n",
       " 791,\n",
       " 63,\n",
       " 346,\n",
       " 340,\n",
       " 21,\n",
       " 622,\n",
       " 753,\n",
       " 704,\n",
       " 135,\n",
       " 180,\n",
       " 582,\n",
       " 150,\n",
       " 311,\n",
       " 416,\n",
       " 163,\n",
       " 20,\n",
       " 514,\n",
       " 609,\n",
       " 956,\n",
       " 762,\n",
       " 33,\n",
       " 620,\n",
       " 662,\n",
       " 11,\n",
       " 482,\n",
       " 982,\n",
       " 466,\n",
       " 575,\n",
       " 236,\n",
       " 673,\n",
       " 895,\n",
       " 757,\n",
       " 454,\n",
       " 133,\n",
       " 885,\n",
       " 251,\n",
       " 771,\n",
       " 386,\n",
       " 330,\n",
       " 505,\n",
       " 905,\n",
       " 673,\n",
       " 946,\n",
       " 292,\n",
       " 592,\n",
       " 787,\n",
       " 262,\n",
       " 689,\n",
       " 926,\n",
       " 695,\n",
       " 371,\n",
       " 437,\n",
       " 952,\n",
       " 277,\n",
       " 972]"
      ]
     },
     "execution_count": 28,
     "metadata": {},
     "output_type": "execute_result"
    }
   ],
   "source": [
    "# arr = np.random.randint(1,999,250)\n",
    "arr = list(np.random.randint(1,999,250))\n",
    "arr "
   ]
  },
  {
   "cell_type": "code",
   "execution_count": null,
   "id": "efb6011f-ad63-4f9a-a21a-ddfc0da020e3",
   "metadata": {},
   "outputs": [],
   "source": []
  },
  {
   "cell_type": "code",
   "execution_count": 29,
   "id": "ea3c33fb-5b8d-44a4-837e-4d6b907cd435",
   "metadata": {},
   "outputs": [
    {
     "name": "stdout",
     "output_type": "stream",
     "text": [
      "[1, 1, 0, 1, 0, 0, 0, 0, 0, 0, 0, 1, 1, 1, 1, 1, 1, 1, 0, 0, 1, 0, 1, 1, 1, 1, 1, 0, 1, 0, 0, 1, 1, 0, 0, 1, 0, 0, 0, 1, 1, 1, 0, 1, 0, 0, 0, 0, 0, 0, 0, 0, 1, 0, 1, 0, 1, 0, 0, 0, 0, 1, 1, 1, 0, 1, 0, 1, 1, 0, 1, 0, 1, 0, 1, 0, 1, 0, 0, 1, 0, 1, 1, 1, 1, 0, 1, 1, 0, 0, 0, 1, 0, 0, 1, 0, 1, 1, 0, 1, 0, 1, 0, 0, 0, 0, 0, 1, 0, 1, 0, 1, 0, 0, 0, 1, 1, 0, 0, 1, 1, 1, 1, 1, 1, 0, 0, 1, 1, 1, 0, 1, 0, 1, 0, 1, 1, 0, 0, 1, 1, 1, 1, 0, 1, 1, 0, 0, 0, 0, 1, 0, 0, 1, 1, 1, 0, 0, 1, 0, 0, 0, 1, 1, 0, 1, 0, 0, 1, 1, 0, 1, 1, 0, 1, 1, 1, 1, 0, 1, 0, 1, 0, 1, 0, 1, 1, 0, 1, 1, 1, 1, 1, 0, 0, 0, 0, 1, 1, 0, 1, 0, 1, 0, 1, 1, 1, 0, 1, 0, 1, 1, 0, 1, 1, 0, 1, 1, 0, 1, 1, 1, 0, 1, 0, 0, 0, 1, 0, 0, 0, 0, 1, 1, 0, 0, 0, 1, 1, 1, 0, 1, 0, 1, 0, 0, 0, 1, 0, 1]\n"
     ]
    }
   ],
   "source": [
    "# if even  == 1, odd == 0 using list comprehension  make it quize \n",
    "even_odd_labels = [1 if x % 2 == 0 else 0 for x in arr]\n",
    "print(even_odd_labels)\n",
    "# done"
   ]
  },
  {
   "cell_type": "code",
   "execution_count": 30,
   "id": "c402c857-940e-4561-a4ed-2c58be12d08c",
   "metadata": {},
   "outputs": [
    {
     "data": {
      "text/html": [
       "<div>\n",
       "<style scoped>\n",
       "    .dataframe tbody tr th:only-of-type {\n",
       "        vertical-align: middle;\n",
       "    }\n",
       "\n",
       "    .dataframe tbody tr th {\n",
       "        vertical-align: top;\n",
       "    }\n",
       "\n",
       "    .dataframe thead th {\n",
       "        text-align: right;\n",
       "    }\n",
       "</style>\n",
       "<table border=\"1\" class=\"dataframe\">\n",
       "  <thead>\n",
       "    <tr style=\"text-align: right;\">\n",
       "      <th></th>\n",
       "      <th>email_message</th>\n",
       "      <th>label</th>\n",
       "    </tr>\n",
       "  </thead>\n",
       "  <tbody>\n",
       "    <tr>\n",
       "      <th>0</th>\n",
       "      <td>ok every night take a warm bath drink a cup of...</td>\n",
       "      <td>0</td>\n",
       "    </tr>\n",
       "    <tr>\n",
       "      <th>1</th>\n",
       "      <td>oh that was a forwarded message i thought you ...</td>\n",
       "      <td>0</td>\n",
       "    </tr>\n",
       "    <tr>\n",
       "      <th>2</th>\n",
       "      <td>ok lor thanx  in school</td>\n",
       "      <td>0</td>\n",
       "    </tr>\n",
       "    <tr>\n",
       "      <th>3</th>\n",
       "      <td>youll never believe this but i have actually g...</td>\n",
       "      <td>0</td>\n",
       "    </tr>\n",
       "    <tr>\n",
       "      <th>4</th>\n",
       "      <td>do you know what mallika sherawat did yesterda...</td>\n",
       "      <td>0</td>\n",
       "    </tr>\n",
       "  </tbody>\n",
       "</table>\n",
       "</div>"
      ],
      "text/plain": [
       "                                       email_message  label\n",
       "0  ok every night take a warm bath drink a cup of...      0\n",
       "1  oh that was a forwarded message i thought you ...      0\n",
       "2                            ok lor thanx  in school      0\n",
       "3  youll never believe this but i have actually g...      0\n",
       "4  do you know what mallika sherawat did yesterda...      0"
      ]
     },
     "execution_count": 30,
     "metadata": {},
     "output_type": "execute_result"
    }
   ],
   "source": [
    "# temp_label = []\n",
    "# for i in labels:\n",
    "#     if i == 'spam':\n",
    "#        temp_label.append(0)\n",
    "#     else:\n",
    "#        temp_label.append(1)\n",
    "final_df.head()\n"
   ]
  },
  {
   "cell_type": "code",
   "execution_count": 31,
   "id": "20ca3d01-004b-45d9-8089-397c2e394816",
   "metadata": {},
   "outputs": [
    {
     "name": "stdout",
     "output_type": "stream",
     "text": [
      "[4, 16, 36, 64, 81, 36, 16]\n"
     ]
    }
   ],
   "source": [
    "lst = [2,4,6,8,9,6,4]\n",
    "sq =[]\n",
    "for item in lst:\n",
    "    sq.append(item ** 2)\n",
    "print(sq)"
   ]
  },
  {
   "cell_type": "code",
   "execution_count": 32,
   "id": "9aff50ce-10ac-4795-bf36-696bf74d5339",
   "metadata": {},
   "outputs": [
    {
     "data": {
      "text/plain": [
       "[4, 16, 36, 64, 81, 36, 16]"
      ]
     },
     "execution_count": 32,
     "metadata": {},
     "output_type": "execute_result"
    }
   ],
   "source": [
    "[ item ** 2 for item in lst]"
   ]
  },
  {
   "cell_type": "code",
   "execution_count": 33,
   "id": "56ef2ab9-d443-4f27-8f79-cf7e16365514",
   "metadata": {},
   "outputs": [],
   "source": [
    "labels = [1 if item == \"spam\" else 0 for item in labels]\n",
    "# this is list comprehension"
   ]
  },
  {
   "cell_type": "markdown",
   "id": "51b5bf8c-ba46-4e64-b4c8-dead9643d93c",
   "metadata": {},
   "source": [
    "# changed"
   ]
  },
  {
   "cell_type": "code",
   "execution_count": 34,
   "id": "7e6c3cab-3de9-4432-95bb-8ca68d87c52d",
   "metadata": {},
   "outputs": [],
   "source": [
    "x = final_df['email_message']\n",
    "y = final_df['label']"
   ]
  },
  {
   "cell_type": "code",
   "execution_count": 35,
   "id": "8d7d933e-00c9-43c6-8b17-0e79788e822e",
   "metadata": {},
   "outputs": [],
   "source": [
    "# type(x)\n",
    "x=x.values"
   ]
  },
  {
   "cell_type": "code",
   "execution_count": 36,
   "id": "71e5f92d-b090-4820-8c83-ad00b9cebb75",
   "metadata": {},
   "outputs": [],
   "source": [
    "bow_obj = CountVectorizer(max_features=1500, stop_words='english')\n",
    "# stopwords \n"
   ]
  },
  {
   "cell_type": "code",
   "execution_count": 37,
   "id": "13d7e560-0ebd-462d-8498-4988d5e1f08c",
   "metadata": {},
   "outputs": [
    {
     "data": {
      "text/plain": [
       "<1747x1500 sparse matrix of type '<class 'numpy.int64'>'\n",
       "\twith 12602 stored elements in Compressed Sparse Row format>"
      ]
     },
     "execution_count": 37,
     "metadata": {},
     "output_type": "execute_result"
    }
   ],
   "source": [
    "X = bow_obj.fit_transform(x)\n",
    "X \n",
    "# X.toarray()\n",
    "# Q) 1747x1500, x has an arr (1747x1500 --shape) "
   ]
  },
  {
   "cell_type": "code",
   "execution_count": 38,
   "id": "159b79be-0c9f-4123-9320-9149eff0dda8",
   "metadata": {},
   "outputs": [],
   "source": [
    "X=X.toarray()\n",
    "# sparse and dense matrix imp queation."
   ]
  },
  {
   "cell_type": "code",
   "execution_count": 39,
   "id": "d11cbe74-9b6b-4ec3-82d6-0052f199d3e9",
   "metadata": {},
   "outputs": [],
   "source": [
    "# CountVectorizer how it changed into numerical\n",
    "# recording of 20/6 not done"
   ]
  },
  {
   "cell_type": "code",
   "execution_count": 40,
   "id": "f49aced3-e5c2-4ab9-879a-5e9920d4cc33",
   "metadata": {},
   "outputs": [
    {
     "data": {
      "text/plain": [
       "((1747, 1500), (1747,))"
      ]
     },
     "execution_count": 40,
     "metadata": {},
     "output_type": "execute_result"
    }
   ],
   "source": [
    "X.shape, y.shape # 1747 should be same imp"
   ]
  },
  {
   "cell_type": "code",
   "execution_count": 41,
   "id": "90f5a15c-2513-45ab-b8fb-1d929bbb5739",
   "metadata": {},
   "outputs": [],
   "source": [
    "from sklearn.model_selection import train_test_split"
   ]
  },
  {
   "cell_type": "code",
   "execution_count": 42,
   "id": "04fb9a01-882e-4b33-b0c0-52f4a5e07689",
   "metadata": {},
   "outputs": [],
   "source": [
    "x_train,x_test,y_train,y_test = train_test_split(X,y, test_size=0.15)"
   ]
  },
  {
   "cell_type": "code",
   "execution_count": 43,
   "id": "ba1ad806-bca3-4534-b4fd-b89c193e82a1",
   "metadata": {},
   "outputs": [],
   "source": [
    "# y"
   ]
  },
  {
   "cell_type": "code",
   "execution_count": 44,
   "id": "3d74eb5b-120b-4a8e-8068-9b60c4b65c97",
   "metadata": {},
   "outputs": [
    {
     "data": {
      "text/plain": [
       "(1484, 1500)"
      ]
     },
     "execution_count": 44,
     "metadata": {},
     "output_type": "execute_result"
    }
   ],
   "source": [
    "x_train.shape"
   ]
  },
  {
   "cell_type": "code",
   "execution_count": 45,
   "id": "ede54fc8-ca70-4284-9146-89ac89b49a35",
   "metadata": {},
   "outputs": [],
   "source": [
    "from sklearn.naive_bayes import BernoulliNB, GaussianNB, MultinomialNB\n",
    "from sklearn.tree import DecisionTreeClassifier\n",
    "from sklearn.ensemble import RandomForestClassifier  # Fixed typo here\n",
    "from sklearn.linear_model import LogisticRegression  # Removed the extra 'I'"
   ]
  },
  {
   "cell_type": "code",
   "execution_count": 46,
   "id": "eb552a25-2b72-4be1-b14c-58e5d0cb3ec1",
   "metadata": {},
   "outputs": [],
   "source": [
    "# object creation \n",
    "bnb = BernoulliNB()\n",
    "gnb = GaussianNB()  # Added parentheses\n",
    "mnb = MultinomialNB() "
   ]
  },
  {
   "cell_type": "code",
   "execution_count": 47,
   "id": "ce4ac037-2b10-4afb-9aeb-f6e1302b83fe",
   "metadata": {},
   "outputs": [
    {
     "name": "stdout",
     "output_type": "stream",
     "text": [
      "BernoulliNB trained\n",
      "MultinomialNB trained\n",
      "GaussianNB trained\n"
     ]
    }
   ],
   "source": [
    "# Fitting the algorithms\n",
    "bnb.fit(x_train, y_train)\n",
    "print('BernoulliNB trained')\n",
    "\n",
    "mnb.fit(x_train, y_train)  # Fixed typo in x_train\n",
    "print('MultinomialNB trained')\n",
    "\n",
    "gnb.fit(x_train, y_train)  # Fixed typo in x_train\n",
    "print('GaussianNB trained')"
   ]
  },
  {
   "cell_type": "code",
   "execution_count": 48,
   "id": "e1ea793f-c910-4a2f-bcf3-df5766193038",
   "metadata": {},
   "outputs": [
    {
     "name": "stdout",
     "output_type": "stream",
     "text": [
      "MultinomialNB Training score:  0.967654986522911\n",
      "MultinomialNB Testing score:  0.935361216730038\n",
      "\n",
      "BernoulliNB Training score:  0.9568733153638814\n",
      "BernoulliNB Testing score:  0.9391634980988594\n",
      "\n",
      "GaussianNB Training score:  0.9818059299191375\n",
      "GaussianNB Testing score:  0.9239543726235742\n"
     ]
    }
   ],
   "source": [
    "print(\"MultinomialNB Training score: \", mnb.score(x_train, y_train))\n",
    "print(\"MultinomialNB Testing score: \", mnb.score(x_test, y_test))\n",
    "\n",
    "print()\n",
    "\n",
    "print(\"BernoulliNB Training score: \", bnb.score(x_train, y_train))\n",
    "print(\"BernoulliNB Testing score: \", bnb.score(x_test, y_test))\n",
    "\n",
    "print()\n",
    "\n",
    "print(\"GaussianNB Training score: \", gnb.score(x_train, y_train))\n",
    "print(\"GaussianNB Testing score: \", gnb.score(x_test, y_test))\n"
   ]
  },
  {
   "cell_type": "code",
   "execution_count": 49,
   "id": "25591770-3394-4bac-8d79-e29e795caeec",
   "metadata": {},
   "outputs": [
    {
     "data": {
      "text/plain": [
       "(263, 1500)"
      ]
     },
     "execution_count": 49,
     "metadata": {},
     "output_type": "execute_result"
    }
   ],
   "source": [
    "# to measue the perforamce of the model \n",
    "x_test.shape "
   ]
  },
  {
   "cell_type": "code",
   "execution_count": 50,
   "id": "6781e00e-8db6-4643-9f6a-2b14f546482b",
   "metadata": {},
   "outputs": [],
   "source": [
    "prediction = mnb.predict(x_test)"
   ]
  },
  {
   "cell_type": "code",
   "execution_count": 51,
   "id": "48017a29-c0ea-4f9d-a87b-4f4a92129a8f",
   "metadata": {},
   "outputs": [
    {
     "data": {
      "text/plain": [
       "array([0, 1, 1, 0, 0, 0, 1, 1, 1, 1, 0, 0, 1, 0, 0, 0, 0, 0, 0, 0, 1, 0,\n",
       "       1, 1, 1, 0, 1, 0, 0, 0, 0, 0, 1, 0, 0, 0, 0, 0, 1, 1, 0, 0, 0, 1,\n",
       "       0, 0, 1, 1, 1, 0, 0, 0, 0, 1, 1, 0, 0, 1, 1, 1, 0, 0, 0, 1, 1, 0,\n",
       "       0, 0, 0, 0, 0, 0, 0, 1, 1, 1, 1, 1, 0, 1, 0, 1, 0, 1, 1, 1, 1, 0,\n",
       "       1, 0, 0, 0, 0, 1, 1, 0, 0, 0, 0, 1, 0, 1, 1, 1, 1, 0, 0, 0, 0, 0,\n",
       "       0, 0, 0, 0, 0, 1, 0, 0, 0, 0, 0, 0, 1, 0, 0, 0, 0, 0, 1, 0, 0, 0,\n",
       "       0, 0, 1, 0, 1, 1, 0, 1, 0, 0, 1, 0, 0, 0, 0, 0, 1, 0, 0, 0, 1, 0,\n",
       "       0, 0, 0, 0, 0, 1, 0, 0, 1, 0, 0, 0, 0, 0, 0, 0, 0, 0, 1, 0, 1, 1,\n",
       "       0, 0, 1, 0, 1, 0, 0, 1, 0, 1, 1, 1, 1, 1, 1, 0, 1, 1, 0, 1, 1, 1,\n",
       "       0, 0, 1, 1, 0, 0, 1, 0, 0, 1, 1, 0, 1, 1, 0, 0, 1, 0, 0, 0, 0, 1,\n",
       "       0, 0, 1, 1, 1, 1, 1, 1, 1, 0, 0, 0, 1, 1, 1, 0, 0, 0, 0, 0, 1, 0,\n",
       "       0, 0, 1, 1, 1, 0, 1, 0, 1, 0, 1, 0, 1, 0, 1, 0, 0, 0, 1, 0, 0],\n",
       "      dtype=int64)"
      ]
     },
     "execution_count": 51,
     "metadata": {},
     "output_type": "execute_result"
    }
   ],
   "source": [
    "prediction"
   ]
  },
  {
   "cell_type": "code",
   "execution_count": 52,
   "id": "af0b1b5a-2022-4118-8dc5-e2c8c48a6195",
   "metadata": {},
   "outputs": [
    {
     "data": {
      "text/html": [
       "<div>\n",
       "<style scoped>\n",
       "    .dataframe tbody tr th:only-of-type {\n",
       "        vertical-align: middle;\n",
       "    }\n",
       "\n",
       "    .dataframe tbody tr th {\n",
       "        vertical-align: top;\n",
       "    }\n",
       "\n",
       "    .dataframe thead th {\n",
       "        text-align: right;\n",
       "    }\n",
       "</style>\n",
       "<table border=\"1\" class=\"dataframe\">\n",
       "  <thead>\n",
       "    <tr style=\"text-align: right;\">\n",
       "      <th></th>\n",
       "      <th>Actual</th>\n",
       "      <th>prediction</th>\n",
       "    </tr>\n",
       "  </thead>\n",
       "  <tbody>\n",
       "    <tr>\n",
       "      <th>0</th>\n",
       "      <td>0</td>\n",
       "      <td>0</td>\n",
       "    </tr>\n",
       "    <tr>\n",
       "      <th>1</th>\n",
       "      <td>1</td>\n",
       "      <td>1</td>\n",
       "    </tr>\n",
       "    <tr>\n",
       "      <th>2</th>\n",
       "      <td>1</td>\n",
       "      <td>1</td>\n",
       "    </tr>\n",
       "    <tr>\n",
       "      <th>3</th>\n",
       "      <td>0</td>\n",
       "      <td>0</td>\n",
       "    </tr>\n",
       "    <tr>\n",
       "      <th>4</th>\n",
       "      <td>0</td>\n",
       "      <td>0</td>\n",
       "    </tr>\n",
       "    <tr>\n",
       "      <th>5</th>\n",
       "      <td>0</td>\n",
       "      <td>0</td>\n",
       "    </tr>\n",
       "    <tr>\n",
       "      <th>6</th>\n",
       "      <td>1</td>\n",
       "      <td>1</td>\n",
       "    </tr>\n",
       "    <tr>\n",
       "      <th>7</th>\n",
       "      <td>1</td>\n",
       "      <td>1</td>\n",
       "    </tr>\n",
       "    <tr>\n",
       "      <th>8</th>\n",
       "      <td>1</td>\n",
       "      <td>1</td>\n",
       "    </tr>\n",
       "    <tr>\n",
       "      <th>9</th>\n",
       "      <td>1</td>\n",
       "      <td>1</td>\n",
       "    </tr>\n",
       "    <tr>\n",
       "      <th>10</th>\n",
       "      <td>0</td>\n",
       "      <td>0</td>\n",
       "    </tr>\n",
       "    <tr>\n",
       "      <th>11</th>\n",
       "      <td>0</td>\n",
       "      <td>0</td>\n",
       "    </tr>\n",
       "    <tr>\n",
       "      <th>12</th>\n",
       "      <td>1</td>\n",
       "      <td>1</td>\n",
       "    </tr>\n",
       "    <tr>\n",
       "      <th>13</th>\n",
       "      <td>0</td>\n",
       "      <td>0</td>\n",
       "    </tr>\n",
       "    <tr>\n",
       "      <th>14</th>\n",
       "      <td>0</td>\n",
       "      <td>0</td>\n",
       "    </tr>\n",
       "    <tr>\n",
       "      <th>15</th>\n",
       "      <td>0</td>\n",
       "      <td>0</td>\n",
       "    </tr>\n",
       "    <tr>\n",
       "      <th>16</th>\n",
       "      <td>0</td>\n",
       "      <td>0</td>\n",
       "    </tr>\n",
       "    <tr>\n",
       "      <th>17</th>\n",
       "      <td>0</td>\n",
       "      <td>0</td>\n",
       "    </tr>\n",
       "    <tr>\n",
       "      <th>18</th>\n",
       "      <td>0</td>\n",
       "      <td>0</td>\n",
       "    </tr>\n",
       "    <tr>\n",
       "      <th>19</th>\n",
       "      <td>0</td>\n",
       "      <td>0</td>\n",
       "    </tr>\n",
       "    <tr>\n",
       "      <th>20</th>\n",
       "      <td>1</td>\n",
       "      <td>1</td>\n",
       "    </tr>\n",
       "    <tr>\n",
       "      <th>21</th>\n",
       "      <td>0</td>\n",
       "      <td>0</td>\n",
       "    </tr>\n",
       "    <tr>\n",
       "      <th>22</th>\n",
       "      <td>1</td>\n",
       "      <td>1</td>\n",
       "    </tr>\n",
       "    <tr>\n",
       "      <th>23</th>\n",
       "      <td>1</td>\n",
       "      <td>1</td>\n",
       "    </tr>\n",
       "    <tr>\n",
       "      <th>24</th>\n",
       "      <td>1</td>\n",
       "      <td>1</td>\n",
       "    </tr>\n",
       "    <tr>\n",
       "      <th>25</th>\n",
       "      <td>0</td>\n",
       "      <td>0</td>\n",
       "    </tr>\n",
       "    <tr>\n",
       "      <th>26</th>\n",
       "      <td>1</td>\n",
       "      <td>1</td>\n",
       "    </tr>\n",
       "    <tr>\n",
       "      <th>27</th>\n",
       "      <td>0</td>\n",
       "      <td>0</td>\n",
       "    </tr>\n",
       "    <tr>\n",
       "      <th>28</th>\n",
       "      <td>0</td>\n",
       "      <td>0</td>\n",
       "    </tr>\n",
       "    <tr>\n",
       "      <th>29</th>\n",
       "      <td>0</td>\n",
       "      <td>0</td>\n",
       "    </tr>\n",
       "    <tr>\n",
       "      <th>30</th>\n",
       "      <td>0</td>\n",
       "      <td>0</td>\n",
       "    </tr>\n",
       "    <tr>\n",
       "      <th>31</th>\n",
       "      <td>0</td>\n",
       "      <td>0</td>\n",
       "    </tr>\n",
       "    <tr>\n",
       "      <th>32</th>\n",
       "      <td>1</td>\n",
       "      <td>1</td>\n",
       "    </tr>\n",
       "    <tr>\n",
       "      <th>33</th>\n",
       "      <td>1</td>\n",
       "      <td>0</td>\n",
       "    </tr>\n",
       "    <tr>\n",
       "      <th>34</th>\n",
       "      <td>0</td>\n",
       "      <td>0</td>\n",
       "    </tr>\n",
       "    <tr>\n",
       "      <th>35</th>\n",
       "      <td>0</td>\n",
       "      <td>0</td>\n",
       "    </tr>\n",
       "    <tr>\n",
       "      <th>36</th>\n",
       "      <td>0</td>\n",
       "      <td>0</td>\n",
       "    </tr>\n",
       "    <tr>\n",
       "      <th>37</th>\n",
       "      <td>1</td>\n",
       "      <td>0</td>\n",
       "    </tr>\n",
       "    <tr>\n",
       "      <th>38</th>\n",
       "      <td>1</td>\n",
       "      <td>1</td>\n",
       "    </tr>\n",
       "    <tr>\n",
       "      <th>39</th>\n",
       "      <td>1</td>\n",
       "      <td>1</td>\n",
       "    </tr>\n",
       "  </tbody>\n",
       "</table>\n",
       "</div>"
      ],
      "text/plain": [
       "    Actual  prediction\n",
       "0        0           0\n",
       "1        1           1\n",
       "2        1           1\n",
       "3        0           0\n",
       "4        0           0\n",
       "5        0           0\n",
       "6        1           1\n",
       "7        1           1\n",
       "8        1           1\n",
       "9        1           1\n",
       "10       0           0\n",
       "11       0           0\n",
       "12       1           1\n",
       "13       0           0\n",
       "14       0           0\n",
       "15       0           0\n",
       "16       0           0\n",
       "17       0           0\n",
       "18       0           0\n",
       "19       0           0\n",
       "20       1           1\n",
       "21       0           0\n",
       "22       1           1\n",
       "23       1           1\n",
       "24       1           1\n",
       "25       0           0\n",
       "26       1           1\n",
       "27       0           0\n",
       "28       0           0\n",
       "29       0           0\n",
       "30       0           0\n",
       "31       0           0\n",
       "32       1           1\n",
       "33       1           0\n",
       "34       0           0\n",
       "35       0           0\n",
       "36       0           0\n",
       "37       1           0\n",
       "38       1           1\n",
       "39       1           1"
      ]
     },
     "execution_count": 52,
     "metadata": {},
     "output_type": "execute_result"
    }
   ],
   "source": [
    "pred = list(prediction)\n",
    "actual = list(y_test)\n",
    "\n",
    "comparison_df = pd.DataFrame({\"Actual\":actual,\"prediction\":pred})\n",
    "comparison_df.head(40)"
   ]
  },
  {
   "cell_type": "code",
   "execution_count": 53,
   "id": "641eceac-9484-4f67-805a-eef9589add13",
   "metadata": {},
   "outputs": [],
   "source": [
    "# it must be 1 - 1 or 0 - 0 for perfect prediction\n",
    "\n",
    "from sklearn.metrics import confusion_matrix, classification_report"
   ]
  },
  {
   "cell_type": "code",
   "execution_count": 54,
   "id": "2261a3e3-866e-4c9e-bef2-444386ae6968",
   "metadata": {},
   "outputs": [
    {
     "data": {
      "text/plain": [
       "array([[149,   6],\n",
       "       [ 11,  97]], dtype=int64)"
      ]
     },
     "execution_count": 54,
     "metadata": {},
     "output_type": "execute_result"
    }
   ],
   "source": [
    "matrix = confusion_matrix(comparison_df['Actual'],comparison_df['prediction'])\n",
    "matrix\n",
    "# false postive - "
   ]
  },
  {
   "cell_type": "code",
   "execution_count": 55,
   "id": "88ef1f94-2c4a-45b7-9193-8ea02be39585",
   "metadata": {},
   "outputs": [],
   "source": [
    "# cnn neural network for image and video analysis can be used \n",
    "# if it was 1 and got 0 then it is fN\n",
    "# if it was 1 and got 1 then it is tp\n",
    "# if it was 0 and got 0 then it is tN\n",
    "# if it was 0 and got 1 then it is fp"
   ]
  },
  {
   "cell_type": "code",
   "execution_count": 56,
   "id": "5e57e1b9-fa06-4b2b-a9fb-58c4416e1fce",
   "metadata": {},
   "outputs": [
    {
     "data": {
      "image/png": "[encoded data removed]",
      "text/plain": [
       "<Figure size 640x480 with 2 Axes>"
      ]
     },
     "metadata": {},
     "output_type": "display_data"
    }
   ],
   "source": [
    "sns.heatmap(matrix,annot = True, fmt= 'd')\n",
    "plt.title(\"confustion matrix on email classification project\")\n",
    "plt.show()"
   ]
  },
  {
   "cell_type": "code",
   "execution_count": 57,
   "id": "1e22dc6a-167d-485d-9ff2-4f53a185c62b",
   "metadata": {},
   "outputs": [
    {
     "name": "stdout",
     "output_type": "stream",
     "text": [
      "              precision    recall  f1-score   support\n",
      "\n",
      "           0       0.93      0.96      0.95       155\n",
      "           1       0.94      0.90      0.92       108\n",
      "\n",
      "    accuracy                           0.94       263\n",
      "   macro avg       0.94      0.93      0.93       263\n",
      "weighted avg       0.94      0.94      0.94       263\n",
      "\n"
     ]
    }
   ],
   "source": [
    "# print(classification_report(comparison_df['Actual'], comparison_df['Prediction']))\n",
    "print(classification_report(comparison_df['Actual'],comparison_df['prediction']))"
   ]
  },
  {
   "cell_type": "code",
   "execution_count": 58,
   "id": "f25c9675-37ab-43f0-b6c1-5c23eea3b967",
   "metadata": {},
   "outputs": [],
   "source": [
    "import os, joblib"
   ]
  },
  {
   "cell_type": "code",
   "execution_count": 59,
   "id": "e9132be7-baeb-43cd-9c07-7f65fdeb2139",
   "metadata": {},
   "outputs": [],
   "source": [
    "os.makedirs('models',exist_ok = True)"
   ]
  },
  {
   "cell_type": "code",
   "execution_count": 60,
   "id": "99f84ad4-ee27-48a3-8047-4bbd599b8f64",
   "metadata": {},
   "outputs": [
    {
     "data": {
      "text/plain": [
       "['./models/multinomialNB.joblib']"
      ]
     },
     "execution_count": 60,
     "metadata": {},
     "output_type": "execute_result"
    }
   ],
   "source": [
    "joblib.dump(bnb, \"./models/bernoulliNB.joblib\")\n",
    "joblib.dump(gnb, \"./models/gaussianNB.joblib\")\n",
    "joblib.dump(mnb, \"./models/multinomialNB.joblib\")"
   ]
  },
  {
   "cell_type": "code",
   "execution_count": 61,
   "id": "2a1207d5-e7bd-4609-8614-8bb1a7a00253",
   "metadata": {},
   "outputs": [
    {
     "data": {
      "text/plain": [
       "['./models/bag_of_words.lb']"
      ]
     },
     "execution_count": 61,
     "metadata": {},
     "output_type": "execute_result"
    }
   ],
   "source": [
    "joblib.dump(bow_obj,'./models/bag_of_words.lb')"
   ]
  },
  {
   "cell_type": "code",
   "execution_count": null,
   "id": "1c4d4986-6f22-45e6-ba4a-49847b894c1c",
   "metadata": {},
   "outputs": [],
   "source": [
    "# flipkart.com sql and nosql kya hota h see and come for 2maro\n",
    "# make an frontend --- email alssification project - inputbox where u can submit the email text in there, submit button\n",
    "# keep this page ready 2maro. "
   ]
  }
 ],
 "metadata": {
  "kernelspec": {
   "display_name": "Python 3 (ipykernel)",
   "language": "python",
   "name": "python3"
  },
  "language_info": {
   "codemirror_mode": {
    "name": "ipython",
    "version": 3
   },
   "file_extension": ".py",
   "mimetype": "text/x-python",
   "name": "python",
   "nbconvert_exporter": "python",
   "pygments_lexer": "ipython3",
   "version": "3.8.10"
  }
 },
 "nbformat": 4,
 "nbformat_minor": 5
}
